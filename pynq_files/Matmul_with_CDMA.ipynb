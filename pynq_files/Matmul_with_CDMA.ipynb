{
 "cells": [
  {
   "cell_type": "code",
   "execution_count": 23,
   "metadata": {},
   "outputs": [],
   "source": [
    "from pynq import DefaultIP\n",
    "import numpy as np\n",
    "from pynq import allocate\n",
    "import time\n",
    "\n",
    "class MatMulDriver(DefaultIP):\n",
    "    def __init__(self, description):\n",
    "        super().__init__(description=description)\n",
    "\n",
    "    bindto = ['xilinx.com:user:matmul:1.0']\n",
    "    \n",
    "    def reset(self):\n",
    "        matmul.write(0x0,0)\n",
    "        matmul.write(0x4,0)\n",
    "\n",
    "    def start(self):\n",
    "        #trigger adder by writing 1 to \"start\" register\n",
    "        matmul.write(0x0,1)     \n",
    "    \n",
    "    def is_done(self):\n",
    "        #read the value in the \"done\" register\n",
    "        return matmul.read(0x4)\n",
    "    \n",
    "    def clear_done(self):\n",
    "        #write 0 to the \"start\" register to clear it\n",
    "        matmul.write(0x0, 0)\n",
    "        #write 1 to the \"done\" register to clear it\n",
    "        matmul.write(0x4, 1)\n",
    "        \n",
    "    def current_state(self):\n",
    "        return matmul.read(0x14)\n",
    "    \n",
    "    def check_sanity(self):\n",
    "        return hex(matmul.read(0x24))\n",
    "\n",
    "class BramDriver(DefaultIP):\n",
    "    def __init__(self, description):\n",
    "        super().__init__(description=description)\n",
    "\n",
    "    bindto = ['xilinx.com:ip:axi_bram_ctrl:4.1']\n",
    "    \n",
    "    def write_a(self, a):\n",
    "        bram_a.write(0,  int((a[3,0]<<24) + (a[2,0]<<16) + (a[1,0]<<8) + (a[0,0])))\n",
    "        bram_a.write(4,  int((a[3,1]<<24) + (a[2,1]<<16) + (a[1,1]<<8) + (a[0,1])))\n",
    "        bram_a.write(8,  int((a[3,2]<<24) + (a[2,2]<<16) + (a[1,2]<<8) + (a[0,2])))\n",
    "        bram_a.write(12, int((a[3,3]<<24) + (a[2,3]<<16) + (a[1,3]<<8) + (a[0,3])))\n",
    "        \n",
    "    def write_b(self, b):\n",
    "        bram_b.write(0,  int((b[0,3]<<24) + (b[0,2]<<16) + (b[0,1]<<8) + (b[0,0])))\n",
    "        bram_b.write(4,  int((b[1,3]<<24) + (b[1,2]<<16) + (b[1,1]<<8) + (b[1,0])))\n",
    "        bram_b.write(8,  int((b[2,3]<<24) + (b[2,2]<<16) + (b[2,1]<<8) + (b[2,0])))\n",
    "        bram_b.write(12, int((b[3,3]<<24) + (b[3,2]<<16) + (b[3,1]<<8) + (b[3,0])))\n",
    "        \n",
    "    def read_c(self):\n",
    "        c = np.ndarray([4,4], dtype=np.uint8)\n",
    "        for i in range(0,4):\n",
    "            val = bram_c.read(4*i)\n",
    "            c[i,0] = ((val & 0x000000ff)>>0)\n",
    "            c[i,1] = ((val & 0x0000ff00)>>8)\n",
    "            c[i,2] = ((val & 0x00ff0000)>>16)\n",
    "            c[i,3] = ((val & 0xff000000)>>24)\n",
    "        return c     \n",
    "\n",
    "class CDMADriver(DefaultIP):\n",
    "    def __init__(self, description):\n",
    "        super().__init__(description=description)\n",
    "\n",
    "    bindto = ['xilinx.com:ip:axi_cdma:4.1']\n",
    "    \n",
    "    def reset(self):\n",
    "        dma.register_map.CDMACR = 0x0004\n",
    "    \n",
    "    def do_transfer(self, src_addr, dst_addr, nbytes):\n",
    "        dma.register_map.CDMACR = 0x0004 #reset the DMA    \n",
    "        dma.register_map.SA = src_addr #set source address\n",
    "        dma_mmio.write(dma.register_map.DA.address, dst_addr)  #set destination address\n",
    "        dma.register_map.BTT = nbytes #set number of bytes to transfer and also trigger the DMA\n",
    "        while (dma.register_map.CDMASR[1]==0): #loop until bit 1 (IDLE) is 0\n",
    "            pass   \n",
    "        \n",
    "    def is_idle(self):\n",
    "        return (dma.register_map.CDMASR[1]==1)"
   ]
  },
  {
   "cell_type": "code",
   "execution_count": 24,
   "metadata": {},
   "outputs": [],
   "source": [
    "from pynq import Overlay\n",
    "from pynq import MMIO\n",
    "overlay = Overlay('/home/aman/overlays/design_1.bit')\n",
    "matmul = overlay.matmul_0\n",
    "bram_a = overlay.axi_bram_ctrl_a\n",
    "bram_b = overlay.axi_bram_ctrl_b\n",
    "bram_c = overlay.axi_bram_ctrl_c\n",
    "dma = overlay.axi_cdma_0\n",
    "dma_mmio = MMIO(dma.mmio.base_addr, 0xffff)"
   ]
  },
  {
   "cell_type": "code",
   "execution_count": 25,
   "metadata": {},
   "outputs": [],
   "source": [
    "def do_matmul(a,b,c):    \n",
    "    matmul.reset()\n",
    "    dma.reset()\n",
    "    dma.do_transfer(a.device_address, 0x40000000, a.nbytes) #sent to bram_a\n",
    "    dma.do_transfer(b.device_address, 0x42000000, b.nbytes) #sent to bram_b\n",
    "    #bram_a.write_a(a)\n",
    "    #bram_b.write_b(b)    \n",
    "    matmul.start()\n",
    "    while not matmul.is_done():\n",
    "        pass\n",
    "    matmul.clear_done()\n",
    "    dma.do_transfer(0x43000000, c.device_address, c.nbytes) #bring from bram_b\n",
    "    #c = bram_c.read_c()"
   ]
  },
  {
   "cell_type": "code",
   "execution_count": 34,
   "metadata": {},
   "outputs": [
    {
     "name": "stdout",
     "output_type": "stream",
     "text": [
      "[[4 0 2 4]\n",
      " [2 2 4 0]\n",
      " [0 1 1 2]\n",
      " [0 0 3 1]]\n",
      "16\n",
      "[[5 0 4 0]\n",
      " [0 4 0 4]\n",
      " [2 1 3 5]\n",
      " [3 1 5 3]]\n",
      "16\n",
      "[[0 0 0 0]\n",
      " [0 0 0 0]\n",
      " [0 0 0 0]\n",
      " [0 0 0 0]]\n",
      "16\n"
     ]
    }
   ],
   "source": [
    "import random\n",
    "a = allocate(shape=(4,4), dtype=np.uint8)\n",
    "b = allocate(shape=(4,4), dtype=np.uint8)\n",
    "c = allocate(shape=(4,4), dtype=np.uint8)\n",
    "for i in range(4):\n",
    "    for j in range(4):\n",
    "        a[i,j] = random.randint(0,5)\n",
    "        b[i,j] = random.randint(0,5)\n",
    "print(np.transpose(a)) #Think of the transposed matrix as the actual input matrix. \n",
    "                       #In the BRAM, we are storing the non-transposed matrix, which\n",
    "                       #basically means we are storing the actual input matrix in col major order\n",
    "print(a.nbytes)\n",
    "print(b)   \n",
    "print(b.nbytes)\n",
    "print(c)   \n",
    "print(c.nbytes)\n",
    "\n",
    "#a = np.random.randint(low=0, high=5,size=(4,4), dtype=np.uint8)\n",
    "#print(\"a=\",a)\n",
    "#b = np.random.randint(low=0, high=5,size=(4,4), dtype=np.uint8)\n",
    "#print(\"b=\",b)"
   ]
  },
  {
   "cell_type": "code",
   "execution_count": 35,
   "metadata": {},
   "outputs": [
    {
     "name": "stdout",
     "output_type": "stream",
     "text": [
      "Result from overlay running on fpga:\n",
      "[[36  6 42 22]\n",
      " [18 12 20 28]\n",
      " [ 8  7 13 15]\n",
      " [ 9  4 14 18]]\n",
      "Time taken =  0.0037488937377929688\n"
     ]
    }
   ],
   "source": [
    "print(\"Result from overlay running on fpga:\")\n",
    "start_time = time.time()\n",
    "do_matmul(a,b,c)\n",
    "end_time = time.time()\n",
    "print(c)\n",
    "print(\"Time taken = \", (end_time-start_time))"
   ]
  },
  {
   "cell_type": "code",
   "execution_count": 38,
   "metadata": {},
   "outputs": [
    {
     "name": "stdout",
     "output_type": "stream",
     "text": [
      "Result from numpy running on cpu:\n",
      "c= [[36  6 42 22]\n",
      " [18 12 20 28]\n",
      " [ 8  7 13 15]\n",
      " [ 9  4 14 18]]\n",
      "Time taken =  0.0010440349578857422\n"
     ]
    }
   ],
   "source": [
    "print(\"Result from numpy running on cpu:\")\n",
    "start_time = time.time()\n",
    "c_cpu = np.matmul(np.transpose(a),b) #need to use transposed matrix, because that's the actual input matrix.\n",
    "end_time = time.time()\n",
    "print(\"c=\", c_cpu)\n",
    "print(\"Time taken = \", (end_time-start_time))"
   ]
  },
  {
   "cell_type": "code",
   "execution_count": null,
   "metadata": {},
   "outputs": [],
   "source": [
    "#That's it"
   ]
  },
  {
   "cell_type": "code",
   "execution_count": 32,
   "metadata": {},
   "outputs": [
    {
     "data": {
      "text/plain": [
       "PynqBuffer([[4, 4, 1, 3],\n",
       "            [1, 4, 4, 0],\n",
       "            [0, 1, 3, 4],\n",
       "            [2, 4, 0, 3]], dtype=uint8)"
      ]
     },
     "execution_count": 32,
     "metadata": {},
     "output_type": "execute_result"
    }
   ],
   "source": [
    "np.transpose(a)"
   ]
  },
  {
   "cell_type": "code",
   "execution_count": null,
   "metadata": {},
   "outputs": [],
   "source": [
    "matmul = overlay.matmul_0"
   ]
  },
  {
   "cell_type": "code",
   "execution_count": null,
   "metadata": {},
   "outputs": [],
   "source": [
    "bram_a = overlay.axi_bram_ctrl_a\n",
    "bram_b = overlay.axi_bram_ctrl_b\n",
    "bram_c = overlay.axi_bram_ctrl_c"
   ]
  },
  {
   "cell_type": "code",
   "execution_count": null,
   "metadata": {},
   "outputs": [],
   "source": [
    "#initialize brams\n",
    "for i in range(4):\n",
    "    #bram_a.write(i*4,i+1000) \n",
    "    #bram_b.write(i*4,i+2000)\n",
    "    bram_c.write(i*4,i+3000)\n",
    "    \n",
    "bram_a.write(0, int('0x09050308',16))\n",
    "bram_a.write(4, int('0x01020304',16))\n",
    "bram_a.write(8, int('0x00010306',16))\n",
    "bram_a.write(12, int('0x05060708',16))\n",
    "bram_a.write(8188,int('0x00000000',16))\n",
    "\n",
    "bram_b.write(0, int('0x00030101',16))\n",
    "bram_b.write(4, int('0x03040100',16))\n",
    "bram_b.write(8, int('0x01030503',16))\n",
    "bram_b.write(12, int('0x02030609',16))\n",
    "bram_b.write(8188,int('0x00000000',16))"
   ]
  },
  {
   "cell_type": "code",
   "execution_count": 37,
   "metadata": {},
   "outputs": [
    {
     "name": "stdout",
     "output_type": "stream",
     "text": [
      "a=\n",
      "0x204\n",
      "0x10200\n",
      "0x3010402\n",
      "0x1020004\n",
      "b=\n",
      "0x40005\n",
      "0x4000400\n",
      "0x5030102\n",
      "0x3050103\n",
      "c=\n",
      "0x162a0624\n",
      "0x1c140c12\n",
      "0xf0d0708\n",
      "0x120e0409\n"
     ]
    }
   ],
   "source": [
    "#test initialization\n",
    "print(\"a=\")\n",
    "for i in range(4):\n",
    "    print(hex(bram_a.read(i*4)))\n",
    "    \n",
    "print(\"b=\")\n",
    "for i in range(4):\n",
    "    print(hex(bram_b.read(i*4)))\n",
    "    \n",
    "print(\"c=\")\n",
    "for i in range(4):    \n",
    "    print(hex(bram_c.read(i*4)))"
   ]
  },
  {
   "cell_type": "code",
   "execution_count": null,
   "metadata": {},
   "outputs": [],
   "source": [
    "#just write 0 to register \"start\"\n",
    "matmul.write(0x0,0) "
   ]
  },
  {
   "cell_type": "code",
   "execution_count": null,
   "metadata": {},
   "outputs": [],
   "source": [
    "matmul.start()"
   ]
  },
  {
   "cell_type": "code",
   "execution_count": null,
   "metadata": {},
   "outputs": [],
   "source": [
    "#just write 0 to register \"clear_done\"\n",
    "matmul.write(0x4,0)"
   ]
  },
  {
   "cell_type": "code",
   "execution_count": null,
   "metadata": {},
   "outputs": [],
   "source": [
    "#read registers from the IP. check initial/reset state\n",
    "print(matmul.read(0x0)) #start \n",
    "print(matmul.read(0x4)) #done\n",
    "print(matmul.read(0x8)) #addr_a\n",
    "print(matmul.read(0xc)) #addr_b\n",
    "print(matmul.read(0x10)) #addr_c\n",
    "print(matmul.read(0x14)) #state of fsm\n",
    "print(matmul.read(0x18)) #rdata_a\n",
    "print(matmul.read(0x1C)) #rdata_b\n",
    "print(matmul.read(0x20)) #rdata_c\n",
    "print(hex(matmul.read(0x24))) #should be deadbeef"
   ]
  },
  {
   "cell_type": "code",
   "execution_count": null,
   "metadata": {},
   "outputs": [],
   "source": [
    "matmul.clear_done()"
   ]
  },
  {
   "cell_type": "code",
   "execution_count": null,
   "metadata": {},
   "outputs": [],
   "source": [
    "#read registers from the IP. check initial/reset state\n",
    "print(matmul.read(0x0)) #start \n",
    "print(matmul.read(0x4)) #done\n",
    "print(matmul.read(0x8)) #addr_a\n",
    "print(matmul.read(0xc)) #addr_b\n",
    "print(matmul.read(0x10)) #addr_c\n",
    "print(matmul.read(0x14)) #state of fsm\n",
    "print(matmul.read(0x18)) #rdata_a\n",
    "print(matmul.read(0x1C)) #rdata_b\n",
    "print(matmul.read(0x20)) #rdata_c\n",
    "print(hex(matmul.read(0x24))) #should be deadbeef"
   ]
  },
  {
   "cell_type": "code",
   "execution_count": null,
   "metadata": {},
   "outputs": [],
   "source": [
    "matmul.is_done()"
   ]
  },
  {
   "cell_type": "code",
   "execution_count": null,
   "metadata": {},
   "outputs": [],
   "source": [
    "#read registers from the IP. check initial/reset state\n",
    "print(matmul.read(0x0)) #start \n",
    "print(matmul.read(0x4)) #done\n",
    "print(matmul.read(0x8)) #addr_a\n",
    "print(matmul.read(0xc)) #addr_b\n",
    "print(matmul.read(0x10)) #addr_c\n",
    "print(matmul.read(0x14)) #state of fsm\n",
    "print(matmul.read(0x18)) #rdata_a\n",
    "print(matmul.read(0x1C)) #rdata_b\n",
    "print(matmul.read(0x20)) #rdata_c\n",
    "print(hex(matmul.read(0x24))) #should be deadbeef"
   ]
  },
  {
   "cell_type": "code",
   "execution_count": null,
   "metadata": {},
   "outputs": [],
   "source": [
    "#read bram\n",
    "print(\"a=\")\n",
    "for i in range(4):\n",
    "    print(hex(bram_a.read(i*4)))\n",
    "    \n",
    "print(\"b=\")\n",
    "for i in range(4):    \n",
    "    print(hex(bram_b.read(i*4)))\n",
    "    \n",
    "print(\"c=\")    \n",
    "for i in range(4):    \n",
    "    print(hex(bram_c.read(i*4)))"
   ]
  },
  {
   "cell_type": "code",
   "execution_count": null,
   "metadata": {},
   "outputs": [],
   "source": [
    "overlay.ip_dict"
   ]
  },
  {
   "cell_type": "code",
   "execution_count": null,
   "metadata": {},
   "outputs": [],
   "source": [
    "matmul.check_sanity()\n",
    "matmul.reset()"
   ]
  },
  {
   "cell_type": "code",
   "execution_count": null,
   "metadata": {},
   "outputs": [],
   "source": [
    "matmul.start()"
   ]
  },
  {
   "cell_type": "code",
   "execution_count": null,
   "metadata": {},
   "outputs": [],
   "source": [
    "add_ip.write(0x8,2323)"
   ]
  },
  {
   "cell_type": "code",
   "execution_count": null,
   "metadata": {},
   "outputs": [],
   "source": [
    "add_ip.read(0x8)"
   ]
  },
  {
   "cell_type": "code",
   "execution_count": null,
   "metadata": {},
   "outputs": [],
   "source": [
    "a = AddDriver(overlay.scalar_add.description)\n",
    "#overlay.scalar_add.add(4,5)"
   ]
  },
  {
   "cell_type": "code",
   "execution_count": null,
   "metadata": {},
   "outputs": [],
   "source": []
  },
  {
   "cell_type": "code",
   "execution_count": null,
   "metadata": {},
   "outputs": [],
   "source": [
    "#Trying out DMA"
   ]
  },
  {
   "cell_type": "code",
   "execution_count": 1,
   "metadata": {},
   "outputs": [
    {
     "data": {
      "application/javascript": [
       "\n",
       "require(['notebook/js/codecell'], function(codecell) {\n",
       "  codecell.CodeCell.options_default.highlight_modes[\n",
       "      'magic_text/x-csrc'] = {'reg':[/^%%microblaze/]};\n",
       "  Jupyter.notebook.events.one('kernel_ready.Kernel', function(){\n",
       "      Jupyter.notebook.get_cells().map(function(cell){\n",
       "          if (cell.cell_type == 'code'){ cell.auto_highlight(); } }) ;\n",
       "  });\n",
       "});\n"
      ]
     },
     "metadata": {},
     "output_type": "display_data"
    }
   ],
   "source": [
    "import numpy as np\n",
    "from pynq import allocate\n",
    "from pynq import Overlay\n",
    "\n",
    "overlay = Overlay('/home/aman/overlays/design_1.bit')\n",
    "dma = overlay.axi_cdma_0\n",
    "\n",
    "from pynq import MMIO\n",
    "dma_mmio = MMIO(dma.mmio.base_addr, 0xffff)"
   ]
  },
  {
   "cell_type": "code",
   "execution_count": 2,
   "metadata": {},
   "outputs": [
    {
     "name": "stdout",
     "output_type": "stream",
     "text": [
      "[10 11 12 13 14]\n",
      "20\n",
      "[0 0 0 0 0]\n"
     ]
    }
   ],
   "source": [
    "input_buffer = allocate(shape=(5,), dtype=np.uint32)\n",
    "output_buffer = allocate(shape=(5,), dtype=np.uint32)\n",
    "for i in range(5):\n",
    "    input_buffer[i] = i+10\n",
    "print(input_buffer)\n",
    "print(input_buffer.nbytes)\n",
    "print(output_buffer)"
   ]
  },
  {
   "cell_type": "code",
   "execution_count": 5,
   "metadata": {},
   "outputs": [
    {
     "name": "stdout",
     "output_type": "stream",
     "text": [
      "[[10 11 12 13]\n",
      " [11 12 13 14]\n",
      " [12 13 14 15]\n",
      " [13 14 15 16]]\n",
      "64\n",
      "[[0 0 0 0]\n",
      " [0 0 0 0]\n",
      " [0 0 0 0]\n",
      " [0 0 0 0]]\n"
     ]
    }
   ],
   "source": [
    "input_buffer = allocate(shape=(4,4), dtype=np.uint32)\n",
    "output_buffer = allocate(shape=(4,4), dtype=np.uint32)\n",
    "for i in range(4):\n",
    "    for j in range(4):\n",
    "        input_buffer[i,j] = i+j+10\n",
    "print(input_buffer)\n",
    "print(input_buffer.nbytes)\n",
    "print(output_buffer)        "
   ]
  },
  {
   "cell_type": "code",
   "execution_count": 6,
   "metadata": {},
   "outputs": [
    {
     "name": "stdout",
     "output_type": "stream",
     "text": [
      "0x2\n"
     ]
    }
   ],
   "source": [
    "dma.register_map.CDMACR = 0x0004\n",
    "print(dma.register_map.CDMASR)\n",
    "dma.register_map.SA = input_buffer.device_address\n",
    "#dma.register_map.DA = output_buffer.device_address #doesn't work because the register is weirdly defined as RO\n",
    "dma_mmio.write(dma.register_map.DA.address, output_buffer.device_address) \n",
    "dma.register_map.BTT = input_buffer.nbytes"
   ]
  },
  {
   "cell_type": "code",
   "execution_count": 7,
   "metadata": {},
   "outputs": [
    {
     "name": "stdout",
     "output_type": "stream",
     "text": [
      "0x1002\n",
      "[[10 11 12 13]\n",
      " [11 12 13 14]\n",
      " [12 13 14 15]\n",
      " [13 14 15 16]]\n"
     ]
    }
   ],
   "source": [
    "print(dma.register_map.CDMASR)\n",
    "print(output_buffer)    "
   ]
  },
  {
   "cell_type": "code",
   "execution_count": null,
   "metadata": {},
   "outputs": [],
   "source": [
    "#That's it"
   ]
  },
  {
   "cell_type": "code",
   "execution_count": 8,
   "metadata": {},
   "outputs": [
    {
     "name": "stdout",
     "output_type": "stream",
     "text": [
      "0x2\n"
     ]
    }
   ],
   "source": [
    "dma.register_map.CDMACR = 0x0004\n",
    "print(dma.register_map.CDMASR)\n",
    "dma.register_map.SA = input_buffer.device_address\n",
    "#dma.register_map.DA = output_buffer.device_address #doesn't work because the register is weirdly defined as RO\n",
    "dma_mmio.write(dma.register_map.DA.address, 0x40000000)  #address of bram_a, from the POV of cdma\n",
    "dma.register_map.BTT = input_buffer.nbytes"
   ]
  },
  {
   "cell_type": "code",
   "execution_count": 9,
   "metadata": {},
   "outputs": [
    {
     "name": "stdout",
     "output_type": "stream",
     "text": [
      "0x1002\n"
     ]
    }
   ],
   "source": [
    "print(dma.register_map.CDMASR)"
   ]
  },
  {
   "cell_type": "code",
   "execution_count": 11,
   "metadata": {},
   "outputs": [
    {
     "name": "stdout",
     "output_type": "stream",
     "text": [
      "0x40000000\n",
      "a=\n",
      "0xa\n",
      "0xb\n",
      "0xc\n",
      "0xd\n",
      "0xb\n",
      "0xc\n",
      "0xd\n",
      "0xe\n",
      "0xc\n",
      "0xd\n",
      "0xe\n",
      "0xf\n",
      "0xd\n",
      "0xe\n",
      "0xf\n",
      "0x10\n"
     ]
    }
   ],
   "source": [
    "bram_a = overlay.axi_bram_ctrl_a\n",
    "print(hex(bram_a.mmio.base_addr))\n",
    "print(\"a=\")\n",
    "for i in range(16):\n",
    "    print(hex(bram_a.read(i*4)))"
   ]
  },
  {
   "cell_type": "code",
   "execution_count": 14,
   "metadata": {},
   "outputs": [
    {
     "name": "stdout",
     "output_type": "stream",
     "text": [
      "c=\n",
      "0xbb8\n",
      "0xbb9\n",
      "0xbba\n",
      "0xbbb\n"
     ]
    }
   ],
   "source": [
    "bram_c = overlay.axi_bram_ctrl_c\n",
    "for i in range(4):\n",
    "    #bram_a.write(i*4,i+1000) \n",
    "    #bram_b.write(i*4,i+2000)\n",
    "    bram_c.write(i*4,i+3000)\n",
    "print(\"c=\")\n",
    "for i in range(4):\n",
    "    print(hex(bram_c.read(i*4)))    "
   ]
  },
  {
   "cell_type": "code",
   "execution_count": 15,
   "metadata": {},
   "outputs": [
    {
     "name": "stdout",
     "output_type": "stream",
     "text": [
      "0x2\n"
     ]
    }
   ],
   "source": [
    "dma.register_map.CDMACR = 0x0004\n",
    "print(dma.register_map.CDMASR)\n",
    "dma.register_map.SA = 0x43000000\n",
    "#dma.register_map.DA = output_buffer.device_address #doesn't work because the register is weirdly defined as RO\n",
    "dma_mmio.write(dma.register_map.DA.address, output_buffer.device_address) \n",
    "dma.register_map.BTT = output_buffer.nbytes"
   ]
  },
  {
   "cell_type": "code",
   "execution_count": 16,
   "metadata": {},
   "outputs": [
    {
     "name": "stdout",
     "output_type": "stream",
     "text": [
      "0x1002\n"
     ]
    }
   ],
   "source": [
    "print(dma.register_map.CDMASR)"
   ]
  },
  {
   "cell_type": "code",
   "execution_count": 17,
   "metadata": {},
   "outputs": [
    {
     "name": "stdout",
     "output_type": "stream",
     "text": [
      "[[3000 3001 3002 3003]\n",
      " [   0    0    0    0]\n",
      " [   0    0    0    0]\n",
      " [   0    0    0    0]]\n"
     ]
    }
   ],
   "source": [
    "print(output_buffer)  "
   ]
  },
  {
   "cell_type": "code",
   "execution_count": null,
   "metadata": {},
   "outputs": [],
   "source": [
    "#dma?\n",
    "dma.register_map\n",
    "#dma.mmio.base_addr"
   ]
  },
  {
   "cell_type": "code",
   "execution_count": null,
   "metadata": {},
   "outputs": [],
   "source": [
    "print(dma.register_map.CDMASR[1])"
   ]
  },
  {
   "cell_type": "code",
   "execution_count": null,
   "metadata": {},
   "outputs": [],
   "source": [
    "def do_transfer(input_buffer, output_buffer):\n",
    "    dma.register_map.CDMACR = 0x0004 #reset the DMA    \n",
    "    dma.register_map.SA = input_buffer.device_address #set source address\n",
    "    dma_mmio.write(dma.register_map.DA.address, output_buffer.device_address)  #set destination address\n",
    "    dma.register_map.BTT = input_buffer.nbytes #set number of bytes to transfer and also trigger the DMA\n",
    "    while (dma.register_map.CDMASR[1]==0): #loop until bit 1 (IDLE) is 0\n",
    "        pass        "
   ]
  },
  {
   "cell_type": "code",
   "execution_count": null,
   "metadata": {},
   "outputs": [],
   "source": [
    "do_transfer(input_buffer, output_buffer)"
   ]
  },
  {
   "cell_type": "code",
   "execution_count": null,
   "metadata": {},
   "outputs": [],
   "source": [
    "#Direct writes to MMIO"
   ]
  },
  {
   "cell_type": "code",
   "execution_count": null,
   "metadata": {},
   "outputs": [],
   "source": [
    "dma_mmio.write(0x0, 0x04)"
   ]
  },
  {
   "cell_type": "code",
   "execution_count": null,
   "metadata": {},
   "outputs": [],
   "source": [
    "dma_mmio.read(0x4)"
   ]
  },
  {
   "cell_type": "code",
   "execution_count": null,
   "metadata": {},
   "outputs": [],
   "source": [
    "dma_mmio.write(0x18, input_buffer.device_address)"
   ]
  },
  {
   "cell_type": "code",
   "execution_count": null,
   "metadata": {},
   "outputs": [],
   "source": [
    "dma_mmio.write(0x20, output_buffer.device_address)"
   ]
  },
  {
   "cell_type": "code",
   "execution_count": null,
   "metadata": {},
   "outputs": [],
   "source": [
    "dma_mmio.write(0x28, 20)"
   ]
  },
  {
   "cell_type": "code",
   "execution_count": null,
   "metadata": {},
   "outputs": [],
   "source": [
    "#That's it"
   ]
  },
  {
   "cell_type": "code",
   "execution_count": null,
   "metadata": {},
   "outputs": [],
   "source": [
    "n = np.ndarray([4,4],np.uint8)"
   ]
  },
  {
   "cell_type": "code",
   "execution_count": null,
   "metadata": {},
   "outputs": [],
   "source": [
    "print(a)\n",
    "print(a[:,0])\n",
    "print(a[0,0])\n",
    "print(a[1,0])\n",
    "print(b)\n",
    "print(b[0,:])"
   ]
  },
  {
   "cell_type": "code",
   "execution_count": null,
   "metadata": {},
   "outputs": [],
   "source": [
    "int((a[3,0]<<24) + (a[2,0]<<16) + (a[1,0]<<8) + (a[0,0]))"
   ]
  },
  {
   "cell_type": "code",
   "execution_count": null,
   "metadata": {},
   "outputs": [],
   "source": [
    "arr = [[8,4,6,8],[3,3,3,7],[5,2,1,6],[9,1,0,5]]\n",
    "a = np.array(arr)\n",
    "print(a)\n",
    "arr = [[1,1,3,0],[0,1,4,3],[3,5,3,1],[9,6,3,2]]\n",
    "b = np.array(arr)\n",
    "print(b)\n",
    "print(np.matmul(a,b))"
   ]
  },
  {
   "cell_type": "code",
   "execution_count": null,
   "metadata": {},
   "outputs": [],
   "source": [
    "bram_a.write_a(a)"
   ]
  },
  {
   "cell_type": "code",
   "execution_count": null,
   "metadata": {},
   "outputs": [],
   "source": [
    "bram_b.write_b(b)"
   ]
  },
  {
   "cell_type": "code",
   "execution_count": null,
   "metadata": {},
   "outputs": [],
   "source": [
    "bram_c.read_c()"
   ]
  },
  {
   "cell_type": "code",
   "execution_count": null,
   "metadata": {},
   "outputs": [],
   "source": [
    "c = do_matmul(a,b)\n",
    "c"
   ]
  },
  {
   "cell_type": "code",
   "execution_count": null,
   "metadata": {},
   "outputs": [],
   "source": [
    "val = bram_c.read(0)\n",
    "print(val)\n",
    "print(hex(val))\n",
    "print(hex((val & 0xff000000) >> 24))"
   ]
  },
  {
   "cell_type": "code",
   "execution_count": null,
   "metadata": {},
   "outputs": [],
   "source": [
    "res = np.dot(a,b)"
   ]
  },
  {
   "cell_type": "code",
   "execution_count": null,
   "metadata": {},
   "outputs": [],
   "source": [
    "res"
   ]
  },
  {
   "cell_type": "code",
   "execution_count": null,
   "metadata": {},
   "outputs": [],
   "source": [
    "np.matmul(a,b)"
   ]
  },
  {
   "cell_type": "code",
   "execution_count": null,
   "metadata": {},
   "outputs": [],
   "source": [
    "        #for x in np.nditer(a, order='F'):\n",
    "        #    print(x)\n",
    "        #extract each column\n",
    "        #for x in np.nditer(a[:,0]):\n",
    "        \n",
    "        #for x in np.nditer(b, order='C'):\n",
    "        #    print(x)"
   ]
  }
 ],
 "metadata": {
  "kernelspec": {
   "display_name": "Python 3",
   "language": "python",
   "name": "python3"
  },
  "language_info": {
   "codemirror_mode": {
    "name": "ipython",
    "version": 3
   },
   "file_extension": ".py",
   "mimetype": "text/x-python",
   "name": "python",
   "nbconvert_exporter": "python",
   "pygments_lexer": "ipython3",
   "version": "3.6.5"
  }
 },
 "nbformat": 4,
 "nbformat_minor": 2
}
