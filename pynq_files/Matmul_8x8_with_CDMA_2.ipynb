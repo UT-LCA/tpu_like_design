{
 "cells": [
  {
   "cell_type": "code",
   "execution_count": 7,
   "metadata": {},
   "outputs": [],
   "source": [
    "from pynq import DefaultIP\n",
    "import numpy as np\n",
    "from pynq import allocate\n",
    "import time\n",
    "\n",
    "class MatMulDriver(DefaultIP):\n",
    "    def __init__(self, description):\n",
    "        super().__init__(description=description)\n",
    "\n",
    "    bindto = ['xilinx.com:user:matmul:1.0']\n",
    "    \n",
    "    def reset(self):\n",
    "        matmul.write(0x0,0)\n",
    "        matmul.write(0x4,0)\n",
    "\n",
    "    def start(self):\n",
    "        #trigger adder by writing 1 to \"start\" register\n",
    "        matmul.write(0x0,1)     \n",
    "    \n",
    "    def is_done(self):\n",
    "        #read the value in the \"done\" register\n",
    "        return matmul.read(0x4)\n",
    "    \n",
    "    def clear_done(self):\n",
    "        #write 0 to the \"start\" register to clear it\n",
    "        matmul.write(0x0, 0)\n",
    "        #write 1 to the \"done\" register to clear it\n",
    "        matmul.write(0x4, 1)\n",
    "        \n",
    "    def current_state(self):\n",
    "        return matmul.read(0x14)\n",
    "    \n",
    "    def check_sanity(self):\n",
    "        return hex(matmul.read(0x24))\n",
    "\n",
    "class BramDriver(DefaultIP):\n",
    "    def __init__(self, description):\n",
    "        super().__init__(description=description)\n",
    "\n",
    "    bindto = ['xilinx.com:ip:axi_bram_ctrl:4.1']\n",
    "    \n",
    "    def write_a(self, a):\n",
    "        for i in range(8):\n",
    "            bram_a.write(i*8,  int((a[7,i]<<56) + (a[6,i]<<48) + (a[5,i]<<40) + (a[4,i]<<32) + \\\n",
    "                                   (a[3,i]<<24) + (a[2,i]<<16) + (a[1,i]<<8)  + (a[0,i])))\n",
    "            \n",
    "        #bram_a.write(0,  int((a[7,0]<<56) + (a[6,0]<<48) + (a[5,0]<<40) + (a[4,0]<<32) + \\\n",
    "        #                     (a[3,0]<<24) + (a[2,0]<<16) + (a[1,0]<<8)  + (a[0,0])))\n",
    "        #bram_a.write(8,  int((a[7,1]<<56) + (a[6,1]<<48) + (a[5,1]<<40) + (a[4,1]<<32) + \\\n",
    "        #                     (a[3,1]<<24) + (a[2,1]<<16) + (a[1,1]<<8)  + (a[0,1])))\n",
    "        #bram_a.write(16,  int((a[7,2]<<56) + (a[6,2]<<48) + (a[5,2]<<40) + (a[4,2]<<32) + \\\n",
    "        #                      (a[3,2]<<24) + (a[2,2]<<16) + (a[1,2]<<8) + (a[0,2])))\n",
    "        #bram_a.write(24, int((a[7,3]<<56) + (a[6,3]<<48) + (a[5,3]<<40) + (a[4,3]<<32) + \\\n",
    "        #                     (a[3,3]<<24) + (a[2,3]<<16) + (a[1,3]<<8)  + (a[0,3])))\n",
    "        \n",
    "    def write_b(self, b):\n",
    "        for i in range(8):\n",
    "            bram_b.write(i*8,  int((a[i,7]<<56) + (a[i,6]<<48) + (a[i,5]<<40) + (a[i,4]<<32) + \\\n",
    "                                   (a[i,3]<<24) + (a[i,2]<<16) + (a[i,1]<<8)  + (a[i,0])))\n",
    "       \n",
    "        #bram_b.write(0,  int((b[0,3]<<24) + (b[0,2]<<16) + (b[0,1]<<8) + (b[0,0])))\n",
    "        #bram_b.write(4,  int((b[1,3]<<24) + (b[1,2]<<16) + (b[1,1]<<8) + (b[1,0])))\n",
    "        #bram_b.write(8,  int((b[2,3]<<24) + (b[2,2]<<16) + (b[2,1]<<8) + (b[2,0])))\n",
    "        #bram_b.write(12, int((b[3,3]<<24) + (b[3,2]<<16) + (b[3,1]<<8) + (b[3,0])))\n",
    "        \n",
    "    def read_c(self):\n",
    "        c = np.ndarray([8,8], dtype=np.uint8)\n",
    "        for i in range(0,8):\n",
    "            val = bram_c.read(8*i)\n",
    "            c[i,0] = ((val & 0x00000000000000ff)>>0)\n",
    "            c[i,1] = ((val & 0x000000000000ff00)>>8)\n",
    "            c[i,2] = ((val & 0x0000000000ff0000)>>16)\n",
    "            c[i,3] = ((val & 0x00000000ff000000)>>24)\n",
    "            c[i,4] = ((val & 0x000000ff00000000)>>32)\n",
    "            c[i,5] = ((val & 0x0000ff0000000000)>>40)\n",
    "            c[i,6] = ((val & 0x00ff000000000000)>>48)\n",
    "            c[i,7] = ((val & 0xff00000000000000)>>56)\n",
    "        return c     \n",
    "\n",
    "class CDMADriver(DefaultIP):\n",
    "    def __init__(self, description):\n",
    "        super().__init__(description=description)\n",
    "\n",
    "    bindto = ['xilinx.com:ip:axi_cdma:4.1']\n",
    "    \n",
    "    def reset(self):\n",
    "        dma.register_map.CDMACR = 0x0004\n",
    "    \n",
    "    def do_transfer(self, src_addr, dst_addr, nbytes):\n",
    "        dma.register_map.CDMACR = 0x0004 #reset the DMA    \n",
    "        dma.register_map.SA = src_addr #set source address\n",
    "        dma_mmio.write(dma.register_map.DA.address, dst_addr)  #set destination address\n",
    "        dma.register_map.BTT = nbytes #set number of bytes to transfer and also trigger the DMA\n",
    "        while (dma.register_map.CDMASR[1]==0): #loop until bit 1 (IDLE) is 0\n",
    "            pass   \n",
    "        \n",
    "    def is_idle(self):\n",
    "        return (dma.register_map.CDMASR[1]==1)"
   ]
  },
  {
   "cell_type": "code",
   "execution_count": 13,
   "metadata": {},
   "outputs": [],
   "source": [
    "from pynq import Overlay\n",
    "from pynq import MMIO\n",
    "overlay = Overlay('/home/aman/overlays/design_1.bit')\n",
    "matmul = overlay.matmul_0\n",
    "bram_a = overlay.axi_bram_ctrl_a\n",
    "bram_b = overlay.axi_bram_ctrl_b\n",
    "bram_c = overlay.axi_bram_ctrl_c\n",
    "dma = overlay.axi_cdma_0\n",
    "dma_mmio = MMIO(dma.mmio.base_addr, 0xffff)"
   ]
  },
  {
   "cell_type": "code",
   "execution_count": 14,
   "metadata": {},
   "outputs": [],
   "source": [
    "def do_matmul(a,b,c):    \n",
    "    matmul.reset()\n",
    "    dma.reset()\n",
    "    #dma.do_transfer(a.device_address, bram_a.mmio.base_addr, a.nbytes) #sent to bram_a\n",
    "    #dma.do_transfer(b.device_address, bram_b.mmio.base_addr, b.nbytes) #sent to bram_b\n",
    "    dma.do_transfer(a.device_address, 0x40000000, a.nbytes) #sent to bram_a\n",
    "    dma.do_transfer(b.device_address, 0x42000000, b.nbytes) #sent to bram_b\n",
    "    #bram_a.write_a(a)\n",
    "    #bram_b.write_b(b)    \n",
    "    matmul.start()\n",
    "    while not matmul.is_done():\n",
    "        pass\n",
    "    matmul.clear_done()\n",
    "    #dma.do_transfer(bram_c.mmio.base_addr, c.device_address, c.nbytes) #bring from bram_b\n",
    "    dma.do_transfer(0x43000000, c.device_address, c.nbytes) #bring from bram_b\n",
    "    #c = bram_c.read_c()"
   ]
  },
  {
   "cell_type": "code",
   "execution_count": 15,
   "metadata": {},
   "outputs": [],
   "source": [
    "import random\n",
    "a = allocate(shape=(8,8), dtype=np.uint8)\n",
    "b = allocate(shape=(8,8), dtype=np.uint8)\n",
    "c = allocate(shape=(8,8), dtype=np.uint8)\n",
    "for i in range(8):\n",
    "    for j in range(8):\n",
    "        a[i,j] = random.randint(0,9)\n",
    "        b[i,j] = random.randint(0,9)\n"
   ]
  },
  {
   "cell_type": "code",
   "execution_count": 16,
   "metadata": {},
   "outputs": [
    {
     "name": "stdout",
     "output_type": "stream",
     "text": [
      "[[6 8 5 0 5 2 5 4]\n",
      " [2 8 5 6 0 2 9 6]\n",
      " [1 1 1 4 1 1 5 8]\n",
      " [8 7 5 2 0 4 2 2]\n",
      " [2 0 6 3 0 8 8 7]\n",
      " [3 0 8 2 8 1 8 6]\n",
      " [2 9 2 0 6 1 1 9]\n",
      " [6 9 8 1 7 8 6 6]]\n",
      "64\n",
      "[[0 3 1 2 2 1 9 8]\n",
      " [1 2 2 5 8 7 3 3]\n",
      " [1 0 9 3 5 4 9 3]\n",
      " [3 2 1 9 4 5 4 7]\n",
      " [4 2 5 2 4 8 3 2]\n",
      " [6 0 4 3 2 2 9 7]\n",
      " [4 5 6 4 5 1 6 5]\n",
      " [4 0 7 0 3 2 3 9]]\n",
      "64\n",
      "[[0 0 0 0 0 0 0 0]\n",
      " [0 0 0 0 0 0 0 0]\n",
      " [0 0 0 0 0 0 0 0]\n",
      " [0 0 0 0 0 0 0 0]\n",
      " [0 0 0 0 0 0 0 0]\n",
      " [0 0 0 0 0 0 0 0]\n",
      " [0 0 0 0 0 0 0 0]\n",
      " [0 0 0 0 0 0 0 0]]\n",
      "64\n"
     ]
    }
   ],
   "source": [
    "#print(np.transpose(a)) #Think of the transposed matrix as the actual input matrix. \n",
    "                       #In the BRAM, we are storing the non-transposed matrix, which\n",
    "                       #basically means we are storing the actual input matrix in col major order\n",
    "print(a)\n",
    "print(a.nbytes)\n",
    "print(b)   \n",
    "print(b.nbytes)\n",
    "print(c)   \n",
    "print(c.nbytes)\n",
    "\n",
    "#a = np.random.randint(low=0, high=5,size=(4,4), dtype=np.uint8)\n",
    "#print(\"a=\",a)\n",
    "#b = np.random.randint(low=0, high=5,size=(4,4), dtype=np.uint8)\n",
    "#print(\"b=\",b)"
   ]
  },
  {
   "cell_type": "code",
   "execution_count": 17,
   "metadata": {},
   "outputs": [
    {
     "name": "stdout",
     "output_type": "stream",
     "text": [
      "Result from overlay running on fpga:\n",
      "[[0 0 0 0 0 0 0 0]\n",
      " [0 0 0 0 0 0 0 0]\n",
      " [0 0 0 0 0 0 0 0]\n",
      " [0 0 0 0 0 0 0 0]\n",
      " [0 0 0 0 0 0 0 0]\n",
      " [0 0 0 0 0 0 0 0]\n",
      " [0 0 0 0 0 0 0 0]\n",
      " [0 0 0 0 0 0 0 0]]\n",
      "Time taken =  0.03927731513977051\n"
     ]
    }
   ],
   "source": [
    "print(\"Result from overlay running on fpga:\")\n",
    "start_time = time.time()\n",
    "do_matmul(a,b,c)\n",
    "end_time = time.time()\n",
    "print(c)\n",
    "print(\"Time taken = \", (end_time-start_time))"
   ]
  },
  {
   "cell_type": "code",
   "execution_count": 19,
   "metadata": {},
   "outputs": [
    {
     "name": "stdout",
     "output_type": "stream",
     "text": [
      "Result from numpy running on cpu:\n",
      "c= [[230 146 198 233 203 137 255 133]\n",
      " [151  72 129 141 159 107 189  99]\n",
      " [ 93  53  52  63  66  62  79  45]\n",
      " [196 106 157 208 157 146 246 137]\n",
      " [199  71 111 146 132 140 188  65]\n",
      " [203 110 166 182 159 117 191  93]\n",
      " [200  41  93 149  98 170 194  54]\n",
      " [215  54 137 186 147 145 234  54]]\n",
      "Time taken =  0.0012083053588867188\n"
     ]
    }
   ],
   "source": [
    "print(\"Result from numpy running on cpu:\")\n",
    "start_time = time.time()\n",
    "c_cpu = np.matmul(np.transpose(a),b) #need to use transposed matrix, because that's the actual input matrix.\n",
    "end_time = time.time()\n",
    "print(\"c=\", c_cpu)\n",
    "print(\"Time taken = \", (end_time-start_time))"
   ]
  },
  {
   "cell_type": "code",
   "execution_count": null,
   "metadata": {},
   "outputs": [],
   "source": [
    "#That's it"
   ]
  },
  {
   "cell_type": "code",
   "execution_count": null,
   "metadata": {},
   "outputs": [],
   "source": [
    "np.transpose(a)"
   ]
  },
  {
   "cell_type": "code",
   "execution_count": null,
   "metadata": {},
   "outputs": [],
   "source": [
    "matmul = overlay.matmul_0"
   ]
  },
  {
   "cell_type": "code",
   "execution_count": null,
   "metadata": {},
   "outputs": [],
   "source": [
    "bram_a = overlay.axi_bram_ctrl_a\n",
    "bram_b = overlay.axi_bram_ctrl_b\n",
    "bram_c = overlay.axi_bram_ctrl_c"
   ]
  },
  {
   "cell_type": "code",
   "execution_count": null,
   "metadata": {},
   "outputs": [],
   "source": [
    "#initialize brams\n",
    "for i in range(4):\n",
    "    #bram_a.write(i*4,i+1000) \n",
    "    #bram_b.write(i*4,i+2000)\n",
    "    bram_c.write(i*4,i+3000)\n",
    "    \n",
    "bram_a.write(0, int('0x09050308',16))\n",
    "bram_a.write(4, int('0x01020304',16))\n",
    "bram_a.write(8, int('0x00010306',16))\n",
    "bram_a.write(12, int('0x05060708',16))\n",
    "bram_a.write(8188,int('0x00000000',16))\n",
    "\n",
    "bram_b.write(0, int('0x00030101',16))\n",
    "bram_b.write(4, int('0x03040100',16))\n",
    "bram_b.write(8, int('0x01030503',16))\n",
    "bram_b.write(12, int('0x02030609',16))\n",
    "bram_b.write(8188,int('0x00000000',16))"
   ]
  },
  {
   "cell_type": "code",
   "execution_count": 18,
   "metadata": {},
   "outputs": [
    {
     "name": "stdout",
     "output_type": "stream",
     "text": [
      "a=\n",
      "0x1080906\n",
      "0x4050205\n",
      "0x50806\n",
      "0x6090200\n",
      "0x6050802\n",
      "0x8050101\n",
      "0x4010101\n",
      "0x2020400\n",
      "0x2050708\n",
      "0x7080800\n",
      "0x3060002\n",
      "0x6080108\n",
      "0x2080003\n",
      "0x9010106\n",
      "0x20902\n",
      "0x6060807\n",
      "b=\n",
      "0x70004\n",
      "0x8090102\n",
      "0x2010300\n",
      "0x3030708\n",
      "0x5020201\n",
      "0x3090405\n",
      "0x3090001\n",
      "0x7040504\n",
      "0x9010203\n",
      "0x2030804\n",
      "0x2050204\n",
      "0x7090202\n",
      "0x3040006\n",
      "0x5060105\n",
      "0x4060504\n",
      "0x9030203\n",
      "c=\n",
      "0x0\n",
      "0x0\n",
      "0x0\n",
      "0x0\n",
      "0x0\n",
      "0x0\n",
      "0x0\n",
      "0x0\n",
      "0x0\n",
      "0x0\n",
      "0x0\n",
      "0x0\n",
      "0x0\n",
      "0x0\n",
      "0x0\n",
      "0x0\n"
     ]
    }
   ],
   "source": [
    "#test initialization\n",
    "print(\"a=\")\n",
    "for i in range(16):\n",
    "    print(hex(bram_a.read(i*4)))\n",
    "    \n",
    "print(\"b=\")\n",
    "for i in range(16):\n",
    "    print(hex(bram_b.read(i*4)))\n",
    "    \n",
    "print(\"c=\")\n",
    "for i in range(16):    \n",
    "    print(hex(bram_c.read(i*4)))"
   ]
  },
  {
   "cell_type": "code",
   "execution_count": null,
   "metadata": {},
   "outputs": [],
   "source": [
    "#just write 0 to register \"start\"\n",
    "matmul.write(0x0,0) "
   ]
  },
  {
   "cell_type": "code",
   "execution_count": null,
   "metadata": {},
   "outputs": [],
   "source": [
    "matmul.start()"
   ]
  },
  {
   "cell_type": "code",
   "execution_count": null,
   "metadata": {},
   "outputs": [],
   "source": [
    "#just write 0 to register \"clear_done\"\n",
    "matmul.write(0x4,0)"
   ]
  },
  {
   "cell_type": "code",
   "execution_count": null,
   "metadata": {},
   "outputs": [],
   "source": [
    "#read registers from the IP. check initial/reset state\n",
    "print(matmul.read(0x0)) #start \n",
    "print(matmul.read(0x4)) #done\n",
    "print(matmul.read(0x8)) #addr_a\n",
    "print(matmul.read(0xc)) #addr_b\n",
    "print(matmul.read(0x10)) #addr_c\n",
    "print(matmul.read(0x14)) #state of fsm\n",
    "print(matmul.read(0x18)) #rdata_a\n",
    "print(matmul.read(0x1C)) #rdata_b\n",
    "print(matmul.read(0x20)) #rdata_c\n",
    "print(hex(matmul.read(0x24))) #should be deadbeef"
   ]
  },
  {
   "cell_type": "code",
   "execution_count": null,
   "metadata": {},
   "outputs": [],
   "source": [
    "matmul.clear_done()"
   ]
  },
  {
   "cell_type": "code",
   "execution_count": null,
   "metadata": {},
   "outputs": [],
   "source": [
    "#read registers from the IP. check initial/reset state\n",
    "print(matmul.read(0x0)) #start \n",
    "print(matmul.read(0x4)) #done\n",
    "print(matmul.read(0x8)) #addr_a\n",
    "print(matmul.read(0xc)) #addr_b\n",
    "print(matmul.read(0x10)) #addr_c\n",
    "print(matmul.read(0x14)) #state of fsm\n",
    "print(matmul.read(0x18)) #rdata_a\n",
    "print(matmul.read(0x1C)) #rdata_b\n",
    "print(matmul.read(0x20)) #rdata_c\n",
    "print(hex(matmul.read(0x24))) #should be deadbeef"
   ]
  },
  {
   "cell_type": "code",
   "execution_count": null,
   "metadata": {},
   "outputs": [],
   "source": [
    "matmul.is_done()"
   ]
  },
  {
   "cell_type": "code",
   "execution_count": null,
   "metadata": {},
   "outputs": [],
   "source": [
    "#read registers from the IP. check initial/reset state\n",
    "print(matmul.read(0x0)) #start \n",
    "print(matmul.read(0x4)) #done\n",
    "print(matmul.read(0x8)) #addr_a\n",
    "print(matmul.read(0xc)) #addr_b\n",
    "print(matmul.read(0x10)) #addr_c\n",
    "print(matmul.read(0x14)) #state of fsm\n",
    "print(matmul.read(0x18)) #rdata_a\n",
    "print(matmul.read(0x1C)) #rdata_b\n",
    "print(matmul.read(0x20)) #rdata_c\n",
    "print(hex(matmul.read(0x24))) #should be deadbeef"
   ]
  },
  {
   "cell_type": "code",
   "execution_count": null,
   "metadata": {},
   "outputs": [],
   "source": [
    "#read bram\n",
    "print(\"a=\")\n",
    "for i in range(4):\n",
    "    print(hex(bram_a.read(i*4)))\n",
    "    \n",
    "print(\"b=\")\n",
    "for i in range(4):    \n",
    "    print(hex(bram_b.read(i*4)))\n",
    "    \n",
    "print(\"c=\")    \n",
    "for i in range(4):    \n",
    "    print(hex(bram_c.read(i*4)))"
   ]
  },
  {
   "cell_type": "code",
   "execution_count": null,
   "metadata": {},
   "outputs": [],
   "source": [
    "overlay.ip_dict"
   ]
  },
  {
   "cell_type": "code",
   "execution_count": null,
   "metadata": {},
   "outputs": [],
   "source": [
    "matmul.check_sanity()\n",
    "matmul.reset()"
   ]
  },
  {
   "cell_type": "code",
   "execution_count": null,
   "metadata": {},
   "outputs": [],
   "source": [
    "matmul.start()"
   ]
  },
  {
   "cell_type": "code",
   "execution_count": null,
   "metadata": {},
   "outputs": [],
   "source": [
    "add_ip.write(0x8,2323)"
   ]
  },
  {
   "cell_type": "code",
   "execution_count": null,
   "metadata": {},
   "outputs": [],
   "source": [
    "add_ip.read(0x8)"
   ]
  },
  {
   "cell_type": "code",
   "execution_count": null,
   "metadata": {},
   "outputs": [],
   "source": [
    "a = AddDriver(overlay.scalar_add.description)\n",
    "#overlay.scalar_add.add(4,5)"
   ]
  },
  {
   "cell_type": "code",
   "execution_count": null,
   "metadata": {},
   "outputs": [],
   "source": []
  },
  {
   "cell_type": "code",
   "execution_count": null,
   "metadata": {},
   "outputs": [],
   "source": [
    "#Trying out DMA"
   ]
  },
  {
   "cell_type": "code",
   "execution_count": null,
   "metadata": {},
   "outputs": [],
   "source": [
    "import numpy as np\n",
    "from pynq import allocate\n",
    "from pynq import Overlay\n",
    "\n",
    "overlay = Overlay('/home/aman/overlays/design_1.bit')\n",
    "dma = overlay.axi_cdma_0\n",
    "\n",
    "from pynq import MMIO\n",
    "dma_mmio = MMIO(dma.mmio.base_addr, 0xffff)"
   ]
  },
  {
   "cell_type": "code",
   "execution_count": null,
   "metadata": {},
   "outputs": [],
   "source": [
    "input_buffer = allocate(shape=(5,), dtype=np.uint32)\n",
    "output_buffer = allocate(shape=(5,), dtype=np.uint32)\n",
    "for i in range(5):\n",
    "    input_buffer[i] = i+10\n",
    "print(input_buffer)\n",
    "print(input_buffer.nbytes)\n",
    "print(output_buffer)"
   ]
  },
  {
   "cell_type": "code",
   "execution_count": null,
   "metadata": {},
   "outputs": [],
   "source": [
    "input_buffer = allocate(shape=(4,4), dtype=np.uint32)\n",
    "output_buffer = allocate(shape=(4,4), dtype=np.uint32)\n",
    "for i in range(4):\n",
    "    for j in range(4):\n",
    "        input_buffer[i,j] = i+j+10\n",
    "print(input_buffer)\n",
    "print(input_buffer.nbytes)\n",
    "print(output_buffer)        "
   ]
  },
  {
   "cell_type": "code",
   "execution_count": null,
   "metadata": {},
   "outputs": [],
   "source": [
    "dma.register_map.CDMACR = 0x0004\n",
    "print(dma.register_map.CDMASR)\n",
    "dma.register_map.SA = input_buffer.device_address\n",
    "#dma.register_map.DA = output_buffer.device_address #doesn't work because the register is weirdly defined as RO\n",
    "dma_mmio.write(dma.register_map.DA.address, output_buffer.device_address) \n",
    "dma.register_map.BTT = input_buffer.nbytes"
   ]
  },
  {
   "cell_type": "code",
   "execution_count": null,
   "metadata": {},
   "outputs": [],
   "source": [
    "print(dma.register_map.CDMASR)\n",
    "print(output_buffer)    "
   ]
  },
  {
   "cell_type": "code",
   "execution_count": null,
   "metadata": {},
   "outputs": [],
   "source": [
    "#That's it"
   ]
  },
  {
   "cell_type": "code",
   "execution_count": null,
   "metadata": {},
   "outputs": [],
   "source": [
    "dma.register_map.CDMACR = 0x0004\n",
    "print(dma.register_map.CDMASR)\n",
    "dma.register_map.SA = input_buffer.device_address\n",
    "#dma.register_map.DA = output_buffer.device_address #doesn't work because the register is weirdly defined as RO\n",
    "dma_mmio.write(dma.register_map.DA.address, 0x40000000)  #address of bram_a, from the POV of cdma\n",
    "dma.register_map.BTT = input_buffer.nbytes"
   ]
  },
  {
   "cell_type": "code",
   "execution_count": null,
   "metadata": {},
   "outputs": [],
   "source": [
    "print(dma.register_map.CDMASR)"
   ]
  },
  {
   "cell_type": "code",
   "execution_count": null,
   "metadata": {},
   "outputs": [],
   "source": [
    "bram_a = overlay.axi_bram_ctrl_a\n",
    "print(hex(bram_a.mmio.base_addr))\n",
    "print(\"a=\")\n",
    "for i in range(16):\n",
    "    print(hex(bram_a.read(i*4)))"
   ]
  },
  {
   "cell_type": "code",
   "execution_count": null,
   "metadata": {},
   "outputs": [],
   "source": [
    "bram_c = overlay.axi_bram_ctrl_c\n",
    "for i in range(4):\n",
    "    #bram_a.write(i*4,i+1000) \n",
    "    #bram_b.write(i*4,i+2000)\n",
    "    bram_c.write(i*4,i+3000)\n",
    "print(\"c=\")\n",
    "for i in range(4):\n",
    "    print(hex(bram_c.read(i*4)))    "
   ]
  },
  {
   "cell_type": "code",
   "execution_count": null,
   "metadata": {},
   "outputs": [],
   "source": [
    "dma.register_map.CDMACR = 0x0004\n",
    "print(dma.register_map.CDMASR)\n",
    "dma.register_map.SA = 0x43000000\n",
    "#dma.register_map.DA = output_buffer.device_address #doesn't work because the register is weirdly defined as RO\n",
    "dma_mmio.write(dma.register_map.DA.address, output_buffer.device_address) \n",
    "dma.register_map.BTT = output_buffer.nbytes"
   ]
  },
  {
   "cell_type": "code",
   "execution_count": null,
   "metadata": {},
   "outputs": [],
   "source": [
    "print(dma.register_map.CDMASR)"
   ]
  },
  {
   "cell_type": "code",
   "execution_count": null,
   "metadata": {},
   "outputs": [],
   "source": [
    "print(output_buffer)  "
   ]
  },
  {
   "cell_type": "code",
   "execution_count": null,
   "metadata": {},
   "outputs": [],
   "source": [
    "#dma?\n",
    "dma.register_map\n",
    "#dma.mmio.base_addr"
   ]
  },
  {
   "cell_type": "code",
   "execution_count": null,
   "metadata": {},
   "outputs": [],
   "source": [
    "print(dma.register_map.CDMASR[1])"
   ]
  },
  {
   "cell_type": "code",
   "execution_count": null,
   "metadata": {},
   "outputs": [],
   "source": [
    "def do_transfer(input_buffer, output_buffer):\n",
    "    dma.register_map.CDMACR = 0x0004 #reset the DMA    \n",
    "    dma.register_map.SA = input_buffer.device_address #set source address\n",
    "    dma_mmio.write(dma.register_map.DA.address, output_buffer.device_address)  #set destination address\n",
    "    dma.register_map.BTT = input_buffer.nbytes #set number of bytes to transfer and also trigger the DMA\n",
    "    while (dma.register_map.CDMASR[1]==0): #loop until bit 1 (IDLE) is 0\n",
    "        pass        "
   ]
  },
  {
   "cell_type": "code",
   "execution_count": null,
   "metadata": {},
   "outputs": [],
   "source": [
    "do_transfer(input_buffer, output_buffer)"
   ]
  },
  {
   "cell_type": "code",
   "execution_count": null,
   "metadata": {},
   "outputs": [],
   "source": [
    "#Direct writes to MMIO"
   ]
  },
  {
   "cell_type": "code",
   "execution_count": null,
   "metadata": {},
   "outputs": [],
   "source": [
    "dma_mmio.write(0x0, 0x04)"
   ]
  },
  {
   "cell_type": "code",
   "execution_count": null,
   "metadata": {},
   "outputs": [],
   "source": [
    "dma_mmio.read(0x4)"
   ]
  },
  {
   "cell_type": "code",
   "execution_count": null,
   "metadata": {},
   "outputs": [],
   "source": [
    "dma_mmio.write(0x18, input_buffer.device_address)"
   ]
  },
  {
   "cell_type": "code",
   "execution_count": null,
   "metadata": {},
   "outputs": [],
   "source": [
    "dma_mmio.write(0x20, output_buffer.device_address)"
   ]
  },
  {
   "cell_type": "code",
   "execution_count": null,
   "metadata": {},
   "outputs": [],
   "source": [
    "dma_mmio.write(0x28, 20)"
   ]
  },
  {
   "cell_type": "code",
   "execution_count": null,
   "metadata": {},
   "outputs": [],
   "source": [
    "#That's it"
   ]
  },
  {
   "cell_type": "code",
   "execution_count": null,
   "metadata": {},
   "outputs": [],
   "source": [
    "n = np.ndarray([4,4],np.uint8)"
   ]
  },
  {
   "cell_type": "code",
   "execution_count": null,
   "metadata": {},
   "outputs": [],
   "source": [
    "print(a)\n",
    "print(a[:,0])\n",
    "print(a[0,0])\n",
    "print(a[1,0])\n",
    "print(b)\n",
    "print(b[0,:])"
   ]
  },
  {
   "cell_type": "code",
   "execution_count": null,
   "metadata": {},
   "outputs": [],
   "source": [
    "int((a[3,0]<<24) + (a[2,0]<<16) + (a[1,0]<<8) + (a[0,0]))"
   ]
  },
  {
   "cell_type": "code",
   "execution_count": null,
   "metadata": {},
   "outputs": [],
   "source": [
    "arr = [[8,4,6,8],[3,3,3,7],[5,2,1,6],[9,1,0,5]]\n",
    "a = np.array(arr)\n",
    "print(a)\n",
    "arr = [[1,1,3,0],[0,1,4,3],[3,5,3,1],[9,6,3,2]]\n",
    "b = np.array(arr)\n",
    "print(b)\n",
    "print(np.matmul(a,b))"
   ]
  },
  {
   "cell_type": "code",
   "execution_count": null,
   "metadata": {},
   "outputs": [],
   "source": [
    "bram_a.write_a(a)"
   ]
  },
  {
   "cell_type": "code",
   "execution_count": null,
   "metadata": {},
   "outputs": [],
   "source": [
    "bram_b.write_b(b)"
   ]
  },
  {
   "cell_type": "code",
   "execution_count": null,
   "metadata": {},
   "outputs": [],
   "source": [
    "bram_c.read_c()"
   ]
  },
  {
   "cell_type": "code",
   "execution_count": null,
   "metadata": {},
   "outputs": [],
   "source": [
    "c = do_matmul(a,b)\n",
    "c"
   ]
  },
  {
   "cell_type": "code",
   "execution_count": null,
   "metadata": {},
   "outputs": [],
   "source": [
    "val = bram_c.read(0)\n",
    "print(val)\n",
    "print(hex(val))\n",
    "print(hex((val & 0xff000000) >> 24))"
   ]
  },
  {
   "cell_type": "code",
   "execution_count": null,
   "metadata": {},
   "outputs": [],
   "source": [
    "res = np.dot(a,b)"
   ]
  },
  {
   "cell_type": "code",
   "execution_count": null,
   "metadata": {},
   "outputs": [],
   "source": [
    "res"
   ]
  },
  {
   "cell_type": "code",
   "execution_count": null,
   "metadata": {},
   "outputs": [],
   "source": [
    "np.matmul(a,b)"
   ]
  },
  {
   "cell_type": "code",
   "execution_count": null,
   "metadata": {},
   "outputs": [],
   "source": [
    "        #for x in np.nditer(a, order='F'):\n",
    "        #    print(x)\n",
    "        #extract each column\n",
    "        #for x in np.nditer(a[:,0]):\n",
    "        \n",
    "        #for x in np.nditer(b, order='C'):\n",
    "        #    print(x)"
   ]
  },
  {
   "cell_type": "code",
   "execution_count": null,
   "metadata": {},
   "outputs": [],
   "source": [
    "#Testing difference between MMIO and DMA"
   ]
  },
  {
   "cell_type": "code",
   "execution_count": null,
   "metadata": {},
   "outputs": [],
   "source": [
    "a = allocate(shape=(32,32), dtype=np.uint32)\n",
    "start_time = time.time()\n",
    "dma.reset()\n",
    "dma.do_transfer(a.device_address, bram_a.mmio.base_addr, a.nbytes) \n",
    "end_time = time.time()\n",
    "print(\"Time taken = \", (end_time-start_time))"
   ]
  },
  {
   "cell_type": "code",
   "execution_count": null,
   "metadata": {},
   "outputs": [],
   "source": [
    "a = allocate(shape=(32,32), dtype=np.uint32)\n",
    "start_time = time.time()\n",
    "addr = 0\n",
    "for i in range(32):\n",
    "    for j in range(32):\n",
    "        bram_a.write(addr, int(a[i][j]))\n",
    "        addr += 4\n",
    "end_time = time.time()\n",
    "print(\"Time taken = \", (end_time-start_time))"
   ]
  },
  {
   "cell_type": "code",
   "execution_count": null,
   "metadata": {},
   "outputs": [],
   "source": []
  }
 ],
 "metadata": {
  "kernelspec": {
   "display_name": "Python 3",
   "language": "python",
   "name": "python3"
  },
  "language_info": {
   "codemirror_mode": {
    "name": "ipython",
    "version": 3
   },
   "file_extension": ".py",
   "mimetype": "text/x-python",
   "name": "python",
   "nbconvert_exporter": "python",
   "pygments_lexer": "ipython3",
   "version": "3.6.5"
  }
 },
 "nbformat": 4,
 "nbformat_minor": 2
}
