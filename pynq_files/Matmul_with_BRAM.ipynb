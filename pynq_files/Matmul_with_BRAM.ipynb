{
 "cells": [
  {
   "cell_type": "code",
   "execution_count": 14,
   "metadata": {},
   "outputs": [],
   "source": [
    "from pynq import DefaultIP\n",
    "import numpy as np\n",
    "\n",
    "class MatMulDriver(DefaultIP):\n",
    "    def __init__(self, description):\n",
    "        super().__init__(description=description)\n",
    "\n",
    "    bindto = ['xilinx.com:user:matmul:1.0']\n",
    "    \n",
    "    def reset(self):\n",
    "        matmul.write(0x0,0)\n",
    "        matmul.write(0x4,0)\n",
    "\n",
    "    def start(self):\n",
    "        #trigger adder by writing 1 to \"start\" register\n",
    "        matmul.write(0x0,1)     \n",
    "    \n",
    "    def is_done(self):\n",
    "        #read the value in the \"done\" register\n",
    "        return matmul.read(0x4)\n",
    "    \n",
    "    def clear_done(self):\n",
    "        #write 0 to the \"start\" register to clear it\n",
    "        matmul.write(0x0, 0)\n",
    "        #write 1 to the \"done\" register to clear it\n",
    "        matmul.write(0x4, 1)\n",
    "        \n",
    "    def current_state(self):\n",
    "        return matmul.read(0x14)\n",
    "    \n",
    "    def check_sanity(self):\n",
    "        return hex(matmul.read(0x24))\n",
    "\n",
    "class BramDriver(DefaultIP):\n",
    "    def __init__(self, description):\n",
    "        super().__init__(description=description)\n",
    "\n",
    "    bindto = ['xilinx.com:ip:axi_bram_ctrl:4.1']\n",
    "    \n",
    "    def write_a(self, a):\n",
    "        bram_a.write(0,  int((a[3,0]<<24) + (a[2,0]<<16) + (a[1,0]<<8) + (a[0,0])))\n",
    "        bram_a.write(4,  int((a[3,1]<<24) + (a[2,1]<<16) + (a[1,1]<<8) + (a[0,1])))\n",
    "        bram_a.write(8,  int((a[3,2]<<24) + (a[2,2]<<16) + (a[1,2]<<8) + (a[0,2])))\n",
    "        bram_a.write(12, int((a[3,3]<<24) + (a[2,3]<<16) + (a[1,3]<<8) + (a[0,3])))\n",
    "        \n",
    "    def write_b(self, b):\n",
    "        bram_b.write(0,  int((b[0,3]<<24) + (b[0,2]<<16) + (b[0,1]<<8) + (b[0,0])))\n",
    "        bram_b.write(4,  int((b[1,3]<<24) + (b[1,2]<<16) + (b[1,1]<<8) + (b[1,0])))\n",
    "        bram_b.write(8,  int((b[2,3]<<24) + (b[2,2]<<16) + (b[2,1]<<8) + (b[2,0])))\n",
    "        bram_b.write(12, int((b[3,3]<<24) + (b[3,2]<<16) + (b[3,1]<<8) + (b[3,0])))\n",
    "        \n",
    "    def read_c(self):\n",
    "        c = np.ndarray([4,4], dtype=np.uint8)\n",
    "        for i in range(0,4):\n",
    "            val = bram_c.read(4*i)\n",
    "            c[i,0] = ((val & 0x000000ff)>>0)\n",
    "            c[i,1] = ((val & 0x0000ff00)>>8)\n",
    "            c[i,2] = ((val & 0x00ff0000)>>16)\n",
    "            c[i,3] = ((val & 0xff000000)>>24)\n",
    "        return c        "
   ]
  },
  {
   "cell_type": "code",
   "execution_count": 15,
   "metadata": {},
   "outputs": [],
   "source": [
    "from pynq import Overlay\n",
    "overlay = Overlay('/home/aman/overlays/design_1.bit')\n",
    "matmul = overlay.matmul_0\n",
    "bram_a = overlay.axi_bram_ctrl_a\n",
    "bram_b = overlay.axi_bram_ctrl_b\n",
    "bram_c = overlay.axi_bram_ctrl_c"
   ]
  },
  {
   "cell_type": "code",
   "execution_count": 16,
   "metadata": {},
   "outputs": [],
   "source": [
    "def do_matmul(a,b):    \n",
    "    matmul.reset()\n",
    "    bram_a.write_a(a)\n",
    "    bram_b.write_b(b)    \n",
    "    matmul.start()\n",
    "    while not matmul.is_done():\n",
    "        pass\n",
    "    matmul.clear_done()\n",
    "    c = bram_c.read_c()\n",
    "    return c"
   ]
  },
  {
   "cell_type": "code",
   "execution_count": 25,
   "metadata": {},
   "outputs": [
    {
     "name": "stdout",
     "output_type": "stream",
     "text": [
      "a= [[4 4 3 2]\n",
      " [2 2 0 0]\n",
      " [4 1 2 4]\n",
      " [2 0 2 2]]\n",
      "b= [[2 4 2 0]\n",
      " [4 1 3 1]\n",
      " [3 1 2 1]\n",
      " [4 2 2 4]]\n"
     ]
    }
   ],
   "source": [
    "a = np.random.randint(low=0, high=5,size=(4,4), dtype=np.uint8)\n",
    "print(\"a=\",a)\n",
    "b = np.random.randint(low=0, high=5,size=(4,4), dtype=np.uint8)\n",
    "print(\"b=\",b)"
   ]
  },
  {
   "cell_type": "code",
   "execution_count": 26,
   "metadata": {},
   "outputs": [
    {
     "name": "stdout",
     "output_type": "stream",
     "text": [
      "Result from overlay running on fpga:\n",
      "[[41 27 30 15]\n",
      " [12 10 10  2]\n",
      " [34 27 23 19]\n",
      " [18 14 12 10]]\n"
     ]
    }
   ],
   "source": [
    "print(\"Result from overlay running on fpga:\")\n",
    "c_fpga = do_matmul(a,b)\n",
    "print(c_fpga)"
   ]
  },
  {
   "cell_type": "code",
   "execution_count": 27,
   "metadata": {},
   "outputs": [
    {
     "name": "stdout",
     "output_type": "stream",
     "text": [
      "Result from numpy running on cpu:\n",
      "c= [[41 27 30 15]\n",
      " [12 10 10  2]\n",
      " [34 27 23 19]\n",
      " [18 14 12 10]]\n"
     ]
    }
   ],
   "source": [
    "print(\"Result from numpy running on cpu:\")\n",
    "c_cpu = np.matmul(a,b)\n",
    "print(\"c=\", c_cpu)"
   ]
  },
  {
   "cell_type": "code",
   "execution_count": null,
   "metadata": {},
   "outputs": [],
   "source": [
    "#That's it"
   ]
  },
  {
   "cell_type": "code",
   "execution_count": null,
   "metadata": {},
   "outputs": [],
   "source": [
    "matmul = overlay.matmul_0"
   ]
  },
  {
   "cell_type": "code",
   "execution_count": null,
   "metadata": {},
   "outputs": [],
   "source": [
    "bram_a = overlay.axi_bram_ctrl_a\n",
    "bram_b = overlay.axi_bram_ctrl_b\n",
    "bram_c = overlay.axi_bram_ctrl_c"
   ]
  },
  {
   "cell_type": "code",
   "execution_count": null,
   "metadata": {},
   "outputs": [],
   "source": [
    "#initialize brams\n",
    "for i in range(4):\n",
    "    #bram_a.write(i*4,i+1000) \n",
    "    #bram_b.write(i*4,i+2000)\n",
    "    bram_c.write(i*4,i+3000)\n",
    "    \n",
    "bram_a.write(0, int('0x09050308',16))\n",
    "bram_a.write(4, int('0x01020304',16))\n",
    "bram_a.write(8, int('0x00010306',16))\n",
    "bram_a.write(12, int('0x05060708',16))\n",
    "bram_a.write(8188,int('0x00000000',16))\n",
    "\n",
    "bram_b.write(0, int('0x00030101',16))\n",
    "bram_b.write(4, int('0x03040100',16))\n",
    "bram_b.write(8, int('0x01030503',16))\n",
    "bram_b.write(12, int('0x02030609',16))\n",
    "bram_b.write(8188,int('0x00000000',16))"
   ]
  },
  {
   "cell_type": "code",
   "execution_count": 13,
   "metadata": {},
   "outputs": [
    {
     "name": "stdout",
     "output_type": "stream",
     "text": [
      "a=\n",
      "0x2040302\n",
      "0x3020301\n",
      "0x1000102\n",
      "0x1040101\n",
      "b=\n",
      "0x4040201\n",
      "0x40104\n",
      "0x3020003\n",
      "0x3010403\n",
      "c=\n",
      "0x1111090f\n",
      "0x0\n",
      "0x0\n",
      "0x0\n"
     ]
    }
   ],
   "source": [
    "#test initialization\n",
    "print(\"a=\")\n",
    "for i in range(4):\n",
    "    print(hex(bram_a.read(i*4)))\n",
    "    \n",
    "print(\"b=\")\n",
    "for i in range(4):\n",
    "    print(hex(bram_b.read(i*4)))\n",
    "    \n",
    "print(\"c=\")\n",
    "for i in range(4):    \n",
    "    print(hex(bram_c.read(i*4)))"
   ]
  },
  {
   "cell_type": "code",
   "execution_count": null,
   "metadata": {},
   "outputs": [],
   "source": [
    "#just write 0 to register \"start\"\n",
    "matmul.write(0x0,0) "
   ]
  },
  {
   "cell_type": "code",
   "execution_count": 12,
   "metadata": {},
   "outputs": [],
   "source": [
    "matmul.start()"
   ]
  },
  {
   "cell_type": "code",
   "execution_count": null,
   "metadata": {},
   "outputs": [],
   "source": [
    "#just write 0 to register \"clear_done\"\n",
    "matmul.write(0x4,0)"
   ]
  },
  {
   "cell_type": "code",
   "execution_count": 11,
   "metadata": {},
   "outputs": [
    {
     "name": "stdout",
     "output_type": "stream",
     "text": [
      "0\n",
      "0\n",
      "8188\n",
      "8188\n",
      "8188\n",
      "0\n",
      "0\n",
      "0\n",
      "0\n",
      "0xdeadbeef\n"
     ]
    }
   ],
   "source": [
    "#read registers from the IP. check initial/reset state\n",
    "print(matmul.read(0x0)) #start \n",
    "print(matmul.read(0x4)) #done\n",
    "print(matmul.read(0x8)) #addr_a\n",
    "print(matmul.read(0xc)) #addr_b\n",
    "print(matmul.read(0x10)) #addr_c\n",
    "print(matmul.read(0x14)) #state of fsm\n",
    "print(matmul.read(0x18)) #rdata_a\n",
    "print(matmul.read(0x1C)) #rdata_b\n",
    "print(matmul.read(0x20)) #rdata_c\n",
    "print(hex(matmul.read(0x24))) #should be deadbeef"
   ]
  },
  {
   "cell_type": "code",
   "execution_count": null,
   "metadata": {},
   "outputs": [],
   "source": [
    "matmul.clear_done()"
   ]
  },
  {
   "cell_type": "code",
   "execution_count": null,
   "metadata": {},
   "outputs": [],
   "source": [
    "#read registers from the IP. check initial/reset state\n",
    "print(matmul.read(0x0)) #start \n",
    "print(matmul.read(0x4)) #done\n",
    "print(matmul.read(0x8)) #addr_a\n",
    "print(matmul.read(0xc)) #addr_b\n",
    "print(matmul.read(0x10)) #addr_c\n",
    "print(matmul.read(0x14)) #state of fsm\n",
    "print(matmul.read(0x18)) #rdata_a\n",
    "print(matmul.read(0x1C)) #rdata_b\n",
    "print(matmul.read(0x20)) #rdata_c\n",
    "print(hex(matmul.read(0x24))) #should be deadbeef"
   ]
  },
  {
   "cell_type": "code",
   "execution_count": null,
   "metadata": {},
   "outputs": [],
   "source": [
    "matmul.is_done()"
   ]
  },
  {
   "cell_type": "code",
   "execution_count": null,
   "metadata": {},
   "outputs": [],
   "source": [
    "#read registers from the IP. check initial/reset state\n",
    "print(matmul.read(0x0)) #start \n",
    "print(matmul.read(0x4)) #done\n",
    "print(matmul.read(0x8)) #addr_a\n",
    "print(matmul.read(0xc)) #addr_b\n",
    "print(matmul.read(0x10)) #addr_c\n",
    "print(matmul.read(0x14)) #state of fsm\n",
    "print(matmul.read(0x18)) #rdata_a\n",
    "print(matmul.read(0x1C)) #rdata_b\n",
    "print(matmul.read(0x20)) #rdata_c\n",
    "print(hex(matmul.read(0x24))) #should be deadbeef"
   ]
  },
  {
   "cell_type": "code",
   "execution_count": null,
   "metadata": {},
   "outputs": [],
   "source": [
    "#read bram\n",
    "print(\"a=\")\n",
    "for i in range(4):\n",
    "    print(hex(bram_a.read(i*4)))\n",
    "    \n",
    "print(\"b=\")\n",
    "for i in range(4):    \n",
    "    print(hex(bram_b.read(i*4)))\n",
    "    \n",
    "print(\"c=\")    \n",
    "for i in range(4):    \n",
    "    print(hex(bram_c.read(i*4)))"
   ]
  },
  {
   "cell_type": "code",
   "execution_count": null,
   "metadata": {},
   "outputs": [],
   "source": [
    "overlay.ip_dict"
   ]
  },
  {
   "cell_type": "code",
   "execution_count": null,
   "metadata": {},
   "outputs": [],
   "source": [
    "matmul.check_sanity()\n",
    "matmul.reset()"
   ]
  },
  {
   "cell_type": "code",
   "execution_count": null,
   "metadata": {},
   "outputs": [],
   "source": [
    "matmul.start()"
   ]
  },
  {
   "cell_type": "code",
   "execution_count": null,
   "metadata": {},
   "outputs": [],
   "source": [
    "add_ip.write(0x8,2323)"
   ]
  },
  {
   "cell_type": "code",
   "execution_count": null,
   "metadata": {},
   "outputs": [],
   "source": [
    "add_ip.read(0x8)"
   ]
  },
  {
   "cell_type": "code",
   "execution_count": null,
   "metadata": {},
   "outputs": [],
   "source": [
    "a = AddDriver(overlay.scalar_add.description)\n",
    "#overlay.scalar_add.add(4,5)"
   ]
  },
  {
   "cell_type": "code",
   "execution_count": null,
   "metadata": {},
   "outputs": [],
   "source": [
    "overlay = Overlay('/home/aman/overlays/adder.bit')"
   ]
  },
  {
   "cell_type": "code",
   "execution_count": null,
   "metadata": {},
   "outputs": [],
   "source": [
    "overlay?"
   ]
  },
  {
   "cell_type": "code",
   "execution_count": null,
   "metadata": {},
   "outputs": [],
   "source": [
    "overlay.scalar_add.add(4,5)"
   ]
  },
  {
   "cell_type": "code",
   "execution_count": null,
   "metadata": {},
   "outputs": [],
   "source": []
  },
  {
   "cell_type": "code",
   "execution_count": null,
   "metadata": {},
   "outputs": [],
   "source": [
    "n = np.ndarray([4,4],np.uint8)"
   ]
  },
  {
   "cell_type": "code",
   "execution_count": null,
   "metadata": {},
   "outputs": [],
   "source": [
    "print(a)\n",
    "print(a[:,0])\n",
    "print(a[0,0])\n",
    "print(a[1,0])\n",
    "print(b)\n",
    "print(b[0,:])"
   ]
  },
  {
   "cell_type": "code",
   "execution_count": null,
   "metadata": {},
   "outputs": [],
   "source": [
    "int((a[3,0]<<24) + (a[2,0]<<16) + (a[1,0]<<8) + (a[0,0]))"
   ]
  },
  {
   "cell_type": "code",
   "execution_count": null,
   "metadata": {},
   "outputs": [],
   "source": [
    "arr = [[8,4,6,8],[3,3,3,7],[5,2,1,6],[9,1,0,5]]\n",
    "a = np.array(arr)\n",
    "print(a)\n",
    "arr = [[1,1,3,0],[0,1,4,3],[3,5,3,1],[9,6,3,2]]\n",
    "b = np.array(arr)\n",
    "print(b)\n",
    "print(np.matmul(a,b))"
   ]
  },
  {
   "cell_type": "code",
   "execution_count": null,
   "metadata": {},
   "outputs": [],
   "source": [
    "bram_a.write_a(a)"
   ]
  },
  {
   "cell_type": "code",
   "execution_count": null,
   "metadata": {},
   "outputs": [],
   "source": [
    "bram_b.write_b(b)"
   ]
  },
  {
   "cell_type": "code",
   "execution_count": null,
   "metadata": {},
   "outputs": [],
   "source": [
    "bram_c.read_c()"
   ]
  },
  {
   "cell_type": "code",
   "execution_count": null,
   "metadata": {},
   "outputs": [],
   "source": [
    "c = do_matmul(a,b)\n",
    "c"
   ]
  },
  {
   "cell_type": "code",
   "execution_count": null,
   "metadata": {},
   "outputs": [],
   "source": [
    "val = bram_c.read(0)\n",
    "print(val)\n",
    "print(hex(val))\n",
    "print(hex((val & 0xff000000) >> 24))"
   ]
  },
  {
   "cell_type": "code",
   "execution_count": null,
   "metadata": {},
   "outputs": [],
   "source": [
    "res = np.dot(a,b)"
   ]
  },
  {
   "cell_type": "code",
   "execution_count": null,
   "metadata": {},
   "outputs": [],
   "source": [
    "res"
   ]
  },
  {
   "cell_type": "code",
   "execution_count": null,
   "metadata": {},
   "outputs": [],
   "source": [
    "np.matmul(a,b)"
   ]
  },
  {
   "cell_type": "code",
   "execution_count": null,
   "metadata": {},
   "outputs": [],
   "source": [
    "        #for x in np.nditer(a, order='F'):\n",
    "        #    print(x)\n",
    "        #extract each column\n",
    "        #for x in np.nditer(a[:,0]):\n",
    "        \n",
    "        #for x in np.nditer(b, order='C'):\n",
    "        #    print(x)"
   ]
  }
 ],
 "metadata": {
  "kernelspec": {
   "display_name": "Python 3",
   "language": "python",
   "name": "python3"
  },
  "language_info": {
   "codemirror_mode": {
    "name": "ipython",
    "version": 3
   },
   "file_extension": ".py",
   "mimetype": "text/x-python",
   "name": "python",
   "nbconvert_exporter": "python",
   "pygments_lexer": "ipython3",
   "version": "3.6.5"
  }
 },
 "nbformat": 4,
 "nbformat_minor": 2
}
