{
 "cells": [
  {
   "cell_type": "code",
   "execution_count": 75,
   "metadata": {},
   "outputs": [],
   "source": [
    "from pynq import Overlay\n",
    "overlay = Overlay('/home/aman/overlays/design_1.bit')"
   ]
  },
  {
   "cell_type": "code",
   "execution_count": 76,
   "metadata": {},
   "outputs": [
    {
     "data": {
      "text/plain": [
       "{'axi_bram_ctrl_0': {'addr_range': 8192,\n",
       "  'device': <pynq.pl_server.device.XlnkDevice at 0xb0256450>,\n",
       "  'driver': pynq.overlay.DefaultIP,\n",
       "  'fullpath': 'axi_bram_ctrl_0',\n",
       "  'gpio': {},\n",
       "  'interrupts': {},\n",
       "  'mem_id': 'S_AXI',\n",
       "  'parameters': {'BMG_INSTANCE': 'EXTERNAL',\n",
       "   'C_BRAM_ADDR_WIDTH': '11',\n",
       "   'C_BRAM_INST_MODE': 'EXTERNAL',\n",
       "   'C_ECC': '0',\n",
       "   'C_ECC_ONOFF_RESET_VALUE': '0',\n",
       "   'C_ECC_TYPE': '0',\n",
       "   'C_FAMILY': 'zynq',\n",
       "   'C_FAULT_INJECT': '0',\n",
       "   'C_MEMORY_DEPTH': '2048',\n",
       "   'C_RD_CMD_OPTIMIZATION': '0',\n",
       "   'C_READ_LATENCY': '1',\n",
       "   'C_SINGLE_PORT_BRAM': '1',\n",
       "   'C_S_AXI_ADDR_WIDTH': '13',\n",
       "   'C_S_AXI_BASEADDR': '0x40000000',\n",
       "   'C_S_AXI_CTRL_ADDR_WIDTH': '32',\n",
       "   'C_S_AXI_CTRL_DATA_WIDTH': '32',\n",
       "   'C_S_AXI_DATA_WIDTH': '32',\n",
       "   'C_S_AXI_HIGHADDR': '0x40001FFF',\n",
       "   'C_S_AXI_ID_WIDTH': '1',\n",
       "   'C_S_AXI_PROTOCOL': 'AXI4LITE',\n",
       "   'C_S_AXI_SUPPORTS_NARROW_BURST': '0',\n",
       "   'Component_Name': 'design_1_axi_bram_ctrl_0_1',\n",
       "   'DATA_WIDTH': '32',\n",
       "   'ECC_ONOFF_RESET_VALUE': '0',\n",
       "   'ECC_TYPE': '0',\n",
       "   'EDK_IPTYPE': 'PERIPHERAL',\n",
       "   'EDK_SPECIAL': 'BRAM_CTRL',\n",
       "   'FAULT_INJECT': '0',\n",
       "   'ID_WIDTH': '0',\n",
       "   'MEM_DEPTH': '2048',\n",
       "   'PROTOCOL': 'AXI4LITE',\n",
       "   'RD_CMD_OPTIMIZATION': '0',\n",
       "   'READ_LATENCY': '1',\n",
       "   'SINGLE_PORT_BRAM': '1',\n",
       "   'SUPPORTS_NARROW_BURST': '0',\n",
       "   'USE_ECC': '0'},\n",
       "  'phys_addr': 1073741824,\n",
       "  'registers': {'CE_CNT': {'access': 'read-write',\n",
       "    'address_offset': 12,\n",
       "    'description': 'Correctable Error Counter Register',\n",
       "    'fields': {'CE_CNT': {'access': 'read-write',\n",
       "      'bit_offset': 0,\n",
       "      'bit_width': 8,\n",
       "      'description': 'Correctable Error Counter Register'}},\n",
       "    'size': 1},\n",
       "   'CE_FFA0': {'access': 'read-only',\n",
       "    'address_offset': 448,\n",
       "    'description': 'Correctable Error First Failing Address Register, bits [31:0]',\n",
       "    'fields': {'CE_FFA0': {'access': 'read-only',\n",
       "      'bit_offset': 0,\n",
       "      'bit_width': 32,\n",
       "      'description': 'Correctable Error First Failing Address Register, bits [31:0]'}},\n",
       "    'size': 1},\n",
       "   'CE_FFA1': {'access': 'read-only',\n",
       "    'address_offset': 452,\n",
       "    'description': 'Correctable Error First Failing Address Register, bits [63:32]',\n",
       "    'fields': {'CE_FFA1': {'access': 'read-only',\n",
       "      'bit_offset': 0,\n",
       "      'bit_width': 32,\n",
       "      'description': 'Correctable Error First Failing Address Register, bits [63:32]'}},\n",
       "    'size': 1},\n",
       "   'ECC_EN_IRQ': {'access': 'read-write',\n",
       "    'address_offset': 4,\n",
       "    'description': 'ECC Enable Interrupt Register',\n",
       "    'fields': {'CE_EN_IRQ': {'access': 'read-write',\n",
       "      'bit_offset': 1,\n",
       "      'bit_width': 1,\n",
       "      'description': 'ECC Enable Interrupt Register'},\n",
       "     'UE_EN_IRQ': {'access': 'read-write',\n",
       "      'bit_offset': 0,\n",
       "      'bit_width': 1,\n",
       "      'description': 'ECC Enable Interrupt Register'}},\n",
       "    'size': 1},\n",
       "   'ECC_ON_OFF': {'access': 'read-write',\n",
       "    'address_offset': 8,\n",
       "    'description': 'ECC On/Off Register',\n",
       "    'fields': {'ECC_ON_OFF': {'access': 'read-write',\n",
       "      'bit_offset': 0,\n",
       "      'bit_width': 1,\n",
       "      'description': 'ECC On/Off Register'}},\n",
       "    'size': 1},\n",
       "   'ECC_STATUS': {'access': 'read-write',\n",
       "    'address_offset': 0,\n",
       "    'description': 'ECC Status Register',\n",
       "    'fields': {'CE_STATUS': {'access': 'read-write',\n",
       "      'bit_offset': 1,\n",
       "      'bit_width': 1,\n",
       "      'description': 'ECC Status Register'},\n",
       "     'UE_STATUS': {'access': 'read-write',\n",
       "      'bit_offset': 0,\n",
       "      'bit_width': 1,\n",
       "      'description': 'ECC Status Register'}},\n",
       "    'size': 1},\n",
       "   'FI_D0': {'access': 'write-only',\n",
       "    'address_offset': 768,\n",
       "    'description': 'Fault Inject Data Register, bits[31:0]',\n",
       "    'fields': {'FI_D0': {'access': 'read-only',\n",
       "      'bit_offset': 0,\n",
       "      'bit_width': 32,\n",
       "      'description': 'Fault Inject Data Register, bits[31:0]'}},\n",
       "    'size': 1},\n",
       "   'FI_D1': {'access': 'write-only',\n",
       "    'address_offset': 772,\n",
       "    'description': 'Fault Inject Data Register, bits[63:32]',\n",
       "    'fields': {'FI_D1': {'access': 'read-only',\n",
       "      'bit_offset': 0,\n",
       "      'bit_width': 32,\n",
       "      'description': 'Fault Inject Data Register, bits[63:32]'}},\n",
       "    'size': 1},\n",
       "   'FI_D2': {'access': 'write-only',\n",
       "    'address_offset': 776,\n",
       "    'description': 'Fault Inject Data Register, bits[95:64]',\n",
       "    'fields': {'FI_D2': {'access': 'read-only',\n",
       "      'bit_offset': 0,\n",
       "      'bit_width': 32,\n",
       "      'description': 'Fault Inject Data Register, bits[95:64]'}},\n",
       "    'size': 1},\n",
       "   'FI_D3': {'access': 'write-only',\n",
       "    'address_offset': 780,\n",
       "    'description': 'Fault Inject Data Register, bits[127:96]',\n",
       "    'fields': {'FI_D3': {'access': 'read-only',\n",
       "      'bit_offset': 0,\n",
       "      'bit_width': 32,\n",
       "      'description': 'Fault Inject Data Register, bits[127:96]'}},\n",
       "    'size': 1},\n",
       "   'FI_ECC': {'access': 'write-only',\n",
       "    'address_offset': 896,\n",
       "    'description': 'Fault Inject ECC Register',\n",
       "    'fields': {'FI_ECC': {'access': 'read-only',\n",
       "      'bit_offset': 0,\n",
       "      'bit_width': 32,\n",
       "      'description': 'Fault Inject ECC Register'}},\n",
       "    'size': 1},\n",
       "   'UE_FFD1': {'access': 'read-only',\n",
       "    'address_offset': 516,\n",
       "    'description': 'Uncorrectable Error First Failing Data Register , bits [63:32]',\n",
       "    'fields': {'UE_FFD': {'access': 'read-only',\n",
       "      'bit_offset': 0,\n",
       "      'bit_width': 32,\n",
       "      'description': 'Uncorrectable Error First Failing Data Register , bits [63:32]'}},\n",
       "    'size': 1},\n",
       "   'UE_FFD2': {'access': 'read-only',\n",
       "    'address_offset': 520,\n",
       "    'description': 'Uncorrectable Error First Failing Data Register , bits [95:64]',\n",
       "    'fields': {'UE_FFD': {'access': 'read-only',\n",
       "      'bit_offset': 0,\n",
       "      'bit_width': 32,\n",
       "      'description': 'Uncorrectable Error First Failing Data Register , bits [95:64]'}},\n",
       "    'size': 1},\n",
       "   'UE_FFD3': {'access': 'read-only',\n",
       "    'address_offset': 524,\n",
       "    'description': 'Uncorrectable Error First Failing Data Register , bits [127:96]',\n",
       "    'fields': {'UE_FFD': {'access': 'read-only',\n",
       "      'bit_offset': 0,\n",
       "      'bit_width': 32,\n",
       "      'description': 'Uncorrectable Error First Failing Data Register , bits [127:96]'}},\n",
       "    'size': 1}},\n",
       "  'state': None,\n",
       "  'type': 'xilinx.com:ip:axi_bram_ctrl:4.1'},\n",
       " 'matmul_0': {'addr_range': 65536,\n",
       "  'device': <pynq.pl_server.device.XlnkDevice at 0xb0256450>,\n",
       "  'driver': pynq.overlay.DefaultIP,\n",
       "  'fullpath': 'matmul_0',\n",
       "  'gpio': {},\n",
       "  'interrupts': {},\n",
       "  'mem_id': 'S00_AXI',\n",
       "  'parameters': {'C_S00_AXI_ADDR_WIDTH': '6',\n",
       "   'C_S00_AXI_BASEADDR': '0x43C00000',\n",
       "   'C_S00_AXI_DATA_WIDTH': '32',\n",
       "   'C_S00_AXI_HIGHADDR': '0x43C0FFFF',\n",
       "   'Component_Name': 'design_1_matmul_0_0',\n",
       "   'EDK_IPTYPE': 'PERIPHERAL'},\n",
       "  'phys_addr': 1136656384,\n",
       "  'registers': {},\n",
       "  'state': None,\n",
       "  'type': 'xilinx.com:user:matmul:1.0'}}"
      ]
     },
     "execution_count": 76,
     "metadata": {},
     "output_type": "execute_result"
    }
   ],
   "source": [
    "overlay.ip_dict"
   ]
  },
  {
   "cell_type": "code",
   "execution_count": 77,
   "metadata": {},
   "outputs": [],
   "source": [
    "add_ip = overlay.matmul_0"
   ]
  },
  {
   "cell_type": "code",
   "execution_count": 78,
   "metadata": {},
   "outputs": [],
   "source": [
    "bram_ip = overlay.axi_bram_ctrl_0"
   ]
  },
  {
   "cell_type": "code",
   "execution_count": 79,
   "metadata": {},
   "outputs": [],
   "source": [
    "#initialize bram\n",
    "bram_ip.write(0x0,44) #this will be input a\n",
    "bram_ip.write(0x4,33) # this will be input b\n",
    "bram_ip.write(0x8,22) # this will be where output a+b is stored"
   ]
  },
  {
   "cell_type": "code",
   "execution_count": 80,
   "metadata": {},
   "outputs": [
    {
     "name": "stdout",
     "output_type": "stream",
     "text": [
      "44\n",
      "33\n",
      "22\n"
     ]
    }
   ],
   "source": [
    "#test initialization\n",
    "print(bram_ip.read(0x0))\n",
    "print(bram_ip.read(0x4))\n",
    "print(bram_ip.read(0x8))"
   ]
  },
  {
   "cell_type": "code",
   "execution_count": 81,
   "metadata": {},
   "outputs": [],
   "source": [
    "#just write 0 to register \"start\"\n",
    "add_ip.write(0x0,0) "
   ]
  },
  {
   "cell_type": "code",
   "execution_count": 82,
   "metadata": {},
   "outputs": [],
   "source": [
    "#just write 0 to register \"done\"\n",
    "add_ip.write(0x4,0)"
   ]
  },
  {
   "cell_type": "code",
   "execution_count": 85,
   "metadata": {},
   "outputs": [
    {
     "name": "stdout",
     "output_type": "stream",
     "text": [
      "0\n",
      "0\n",
      "0\n",
      "0\n",
      "0\n",
      "0\n",
      "0\n",
      "0\n",
      "0\n",
      "0xdeadbeef\n"
     ]
    }
   ],
   "source": [
    "#read registers from the IP. check initial/reset state\n",
    "print(add_ip.read(0x0)) #start \n",
    "print(add_ip.read(0x4)) #done\n",
    "print(add_ip.read(0x8))\n",
    "print(add_ip.read(0xc))\n",
    "print(add_ip.read(0x10))\n",
    "print(add_ip.read(0x14)) #state of fsm\n",
    "print(add_ip.read(0x18)) #adder_ina\n",
    "print(add_ip.read(0x1C)) #adder_inb\n",
    "print(add_ip.read(0x20)) #adder_out\n",
    "print(hex(add_ip.read(0x24))) #should be deadbeef"
   ]
  },
  {
   "cell_type": "code",
   "execution_count": 86,
   "metadata": {},
   "outputs": [],
   "source": [
    "#trigger adder by writing 1 to \"start\" register\n",
    "add_ip.write(0x0,1)"
   ]
  },
  {
   "cell_type": "code",
   "execution_count": 87,
   "metadata": {},
   "outputs": [
    {
     "name": "stdout",
     "output_type": "stream",
     "text": [
      "1\n",
      "1\n",
      "0\n",
      "0\n",
      "0\n",
      "7\n",
      "44\n",
      "33\n",
      "77\n",
      "3735928559\n"
     ]
    }
   ],
   "source": [
    "#read registers from the IP. ensure \"done\" is 1 \n",
    "print(add_ip.read(0x0)) #start \n",
    "print(add_ip.read(0x4)) #done\n",
    "print(add_ip.read(0x8))\n",
    "print(add_ip.read(0xc))\n",
    "print(add_ip.read(0x10))\n",
    "print(add_ip.read(0x14)) #state of fsm\n",
    "print(add_ip.read(0x18)) #adder_ina\n",
    "print(add_ip.read(0x1C)) #adder_inb\n",
    "print(add_ip.read(0x20)) #adder_out\n",
    "print(add_ip.read(0x24)) #should be deadbeef"
   ]
  },
  {
   "cell_type": "code",
   "execution_count": 88,
   "metadata": {},
   "outputs": [],
   "source": [
    "#write 0 to \"start\" register do adder is stopped\n",
    "add_ip.write(0x0,0)"
   ]
  },
  {
   "cell_type": "code",
   "execution_count": 89,
   "metadata": {},
   "outputs": [],
   "source": [
    "#write 1 to \"done\" register to bring state machine back to reset state\n",
    "add_ip.write(0x4,1)\n",
    "#write 0 to \"done\" register to clear it\n",
    "add_ip.write(0x4,0)"
   ]
  },
  {
   "cell_type": "code",
   "execution_count": 90,
   "metadata": {},
   "outputs": [
    {
     "name": "stdout",
     "output_type": "stream",
     "text": [
      "44\n",
      "33\n",
      "77\n"
     ]
    }
   ],
   "source": [
    "#read bram. ensure third read is first+second\n",
    "print(bram_ip.read(0x0))\n",
    "print(bram_ip.read(0x4))\n",
    "print(bram_ip.read(0x8))"
   ]
  },
  {
   "cell_type": "code",
   "execution_count": 72,
   "metadata": {},
   "outputs": [
    {
     "name": "stdout",
     "output_type": "stream",
     "text": [
      "0\n",
      "0\n",
      "0\n",
      "0\n",
      "0\n",
      "0\n",
      "0\n",
      "0\n",
      "0\n",
      "3735928559\n"
     ]
    }
   ],
   "source": [
    "#read registers from the IP. ensure we are in initial/reset state\n",
    "print(add_ip.read(0x0)) #start \n",
    "print(add_ip.read(0x4)) #done\n",
    "print(add_ip.read(0x8))\n",
    "print(add_ip.read(0xc))\n",
    "print(add_ip.read(0x10))\n",
    "print(add_ip.read(0x14)) #state of fsm\n",
    "print(add_ip.read(0x18)) #adder_ina\n",
    "print(add_ip.read(0x1C)) #adder_inb\n",
    "print(add_ip.read(0x20)) #adder_out\n",
    "print(add_ip.read(0x24)) #should be deadbeef"
   ]
  },
  {
   "cell_type": "code",
   "execution_count": null,
   "metadata": {},
   "outputs": [],
   "source": [
    "#that's it for now"
   ]
  },
  {
   "cell_type": "code",
   "execution_count": null,
   "metadata": {},
   "outputs": [],
   "source": [
    "from pynq import DefaultIP\n",
    "\n",
    "class AddDriver(DefaultIP):\n",
    "    def __init__(self, description):\n",
    "        super().__init__(description=description)\n",
    "\n",
    "    bindto = ['xilinx.com:hls:add:1.0']\n",
    "\n",
    "    def add(self, a, b):\n",
    "        self.write(0x10, a)\n",
    "        self.write(0x18, b)\n",
    "        return self.read(0x20)"
   ]
  },
  {
   "cell_type": "code",
   "execution_count": null,
   "metadata": {},
   "outputs": [],
   "source": [
    "add_ip.write(0x8,2323)"
   ]
  },
  {
   "cell_type": "code",
   "execution_count": null,
   "metadata": {},
   "outputs": [],
   "source": [
    "add_ip.read(0x8)"
   ]
  },
  {
   "cell_type": "code",
   "execution_count": null,
   "metadata": {},
   "outputs": [],
   "source": [
    "a = AddDriver(overlay.scalar_add.description)\n",
    "#overlay.scalar_add.add(4,5)"
   ]
  },
  {
   "cell_type": "code",
   "execution_count": null,
   "metadata": {},
   "outputs": [],
   "source": [
    "overlay = Overlay('/home/aman/overlays/adder.bit')"
   ]
  },
  {
   "cell_type": "code",
   "execution_count": null,
   "metadata": {},
   "outputs": [],
   "source": [
    "overlay?"
   ]
  },
  {
   "cell_type": "code",
   "execution_count": null,
   "metadata": {},
   "outputs": [],
   "source": [
    "overlay.scalar_add.add(4,5)"
   ]
  },
  {
   "cell_type": "code",
   "execution_count": null,
   "metadata": {},
   "outputs": [],
   "source": []
  }
 ],
 "metadata": {
  "kernelspec": {
   "display_name": "Python 3",
   "language": "python",
   "name": "python3"
  },
  "language_info": {
   "codemirror_mode": {
    "name": "ipython",
    "version": 3
   },
   "file_extension": ".py",
   "mimetype": "text/x-python",
   "name": "python",
   "nbconvert_exporter": "python",
   "pygments_lexer": "ipython3",
   "version": "3.6.5"
  }
 },
 "nbformat": 4,
 "nbformat_minor": 2
}
